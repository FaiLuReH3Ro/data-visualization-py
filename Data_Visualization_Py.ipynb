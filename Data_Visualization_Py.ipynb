{
 "cells": [
  {
   "cell_type": "markdown",
   "id": "386e5f14",
   "metadata": {
    "papermill": {
     "duration": 0.010261,
     "end_time": "2025-09-02T04:59:57.559379",
     "exception": false,
     "start_time": "2025-09-02T04:59:57.549118",
     "status": "completed"
    },
    "tags": []
   },
   "source": [
    "# **Data Visualization**\n",
    "\n",
    "In this part, I will apply data visualization in Python to discover insights about the key objectives. Using Matplotlib and Seaborn, I visualized horizontal bar charts to display the distribution of the top programming languages, databases, web frameworks, platforms, collaboration tools, and tech tools for both used and desired cases. These visualizations will serve as the key indicators for finding the current popular technologies and future trends.\n",
    "\n",
    "## Repository\n",
    "\n",
    "Check out the repository on [GitHub](https://github.com/FaiLuReH3Ro/data-visualization-py) for more details.\n",
    "\n",
    "## Dataset Used\n",
    "\n",
    "I will use various tables in the database (`survey-data.db`) that were created during the [Handling Outliers](https://www.kaggle.com/code/failureh3ro/handling-outliers-python/notebook) section.\n",
    "\n",
    "### Tables\n",
    "\n",
    "* __main__ - Main unedited table\n",
    "* __noOutCompT__ - Table with no outliers in `CompTotal` column\n",
    "* __noOutCompY__ - Table with no outliers in `ConvertedCompYearly` column\n",
    "\n",
    "The tables are derived from [clean_survey_data.csv](https://www.kaggle.com/datasets/failureh3ro/stack-overflow-survey-2024-cleaned-data).\n",
    "\n",
    "## Objectives\n",
    "\n",
    "* Connect to the SQLite database\n",
    "* Find the most popular technologies from the data\n",
    "* Visualize the results\n",
    "\n",
    "## Technologies \n",
    "\n",
    "<ul>\n",
    "    <li>Programming Languages</li>\n",
    "    <li>Databases</li>\n",
    "    <li>Platforms</li>\n",
    "    <li>Web Frameworks</li>\n",
    "    <li>Tools Tech</li>\n",
    "    <li>Collaboration Tools</li>\n",
    "</ul>"
   ]
  },
  {
   "cell_type": "markdown",
   "id": "2b7f4c38",
   "metadata": {
    "papermill": {
     "duration": 0.008996,
     "end_time": "2025-09-02T04:59:57.577580",
     "exception": false,
     "start_time": "2025-09-02T04:59:57.568584",
     "status": "completed"
    },
    "tags": []
   },
   "source": [
    "## Download and Import Libraries"
   ]
  },
  {
   "cell_type": "code",
   "execution_count": 1,
   "id": "9dfa6332",
   "metadata": {
    "execution": {
     "iopub.execute_input": "2025-09-02T04:59:57.597591Z",
     "iopub.status.busy": "2025-09-02T04:59:57.597245Z",
     "iopub.status.idle": "2025-09-02T04:59:57.602455Z",
     "shell.execute_reply": "2025-09-02T04:59:57.601470Z"
    },
    "papermill": {
     "duration": 0.017742,
     "end_time": "2025-09-02T04:59:57.604240",
     "exception": false,
     "start_time": "2025-09-02T04:59:57.586498",
     "status": "completed"
    },
    "tags": []
   },
   "outputs": [],
   "source": [
    "# Run this cell if the libraries are not installed\n",
    "# Uncomment the lines below to install\n",
    "# %pip install pandas\n",
    "# %pip install matplotlib\n",
    "# %pip install seaborn\n",
    "# %pip install sqlite3"
   ]
  },
  {
   "cell_type": "code",
   "execution_count": 2,
   "id": "f8a9e956",
   "metadata": {
    "execution": {
     "iopub.execute_input": "2025-09-02T04:59:57.624113Z",
     "iopub.status.busy": "2025-09-02T04:59:57.623457Z",
     "iopub.status.idle": "2025-09-02T05:00:01.856468Z",
     "shell.execute_reply": "2025-09-02T05:00:01.855252Z"
    },
    "papermill": {
     "duration": 4.244901,
     "end_time": "2025-09-02T05:00:01.858409",
     "exception": false,
     "start_time": "2025-09-02T04:59:57.613508",
     "status": "completed"
    },
    "tags": []
   },
   "outputs": [],
   "source": [
    "import pandas as pd\n",
    "import matplotlib.pyplot as plt\n",
    "import seaborn as sns\n",
    "import sqlite3\n",
    "\n",
    "# Suppress warnings\n",
    "# Comment before running to view warnings\n",
    "import warnings\n",
    "warnings.filterwarnings(\"ignore\")"
   ]
  },
  {
   "cell_type": "markdown",
   "id": "5f86dc0f",
   "metadata": {
    "papermill": {
     "duration": 0.008469,
     "end_time": "2025-09-02T05:00:01.876115",
     "exception": false,
     "start_time": "2025-09-02T05:00:01.867646",
     "status": "completed"
    },
    "tags": []
   },
   "source": [
    "## Connect to SQLite3 Database\n",
    "\n",
    "Since we already created the database, we can easily easily access the tables by creating a connection.\n",
    "\n",
    "> Note: If the database has not been created and running locally, refer to the [Handling_Outliers](https://www.kaggle.com/code/failureh3ro/handling-outliers-python/notebook) notebook and run the cells to create the database and the three tables."
   ]
  },
  {
   "cell_type": "code",
   "execution_count": 3,
   "id": "d93e09d4",
   "metadata": {
    "execution": {
     "iopub.execute_input": "2025-09-02T05:00:01.897954Z",
     "iopub.status.busy": "2025-09-02T05:00:01.896457Z",
     "iopub.status.idle": "2025-09-02T05:00:01.909929Z",
     "shell.execute_reply": "2025-09-02T05:00:01.908913Z"
    },
    "papermill": {
     "duration": 0.027344,
     "end_time": "2025-09-02T05:00:01.912337",
     "exception": false,
     "start_time": "2025-09-02T05:00:01.884993",
     "status": "completed"
    },
    "tags": []
   },
   "outputs": [],
   "source": [
    "# Create a connection to the SQLite database named 'survey-data.db'\n",
    "# If running locally, run the top line\n",
    "# conn = sqlite3.connect('survey-data.db')\n",
    "conn = sqlite3.connect('/kaggle/input/handling-outliers-python/survey-data.db')"
   ]
  },
  {
   "cell_type": "markdown",
   "id": "6bb116e3",
   "metadata": {
    "papermill": {
     "duration": 0.00831,
     "end_time": "2025-09-02T05:00:01.929683",
     "exception": false,
     "start_time": "2025-09-02T05:00:01.921373",
     "status": "completed"
    },
    "tags": []
   },
   "source": [
    "### Verify Tables"
   ]
  },
  {
   "cell_type": "code",
   "execution_count": 4,
   "id": "a1471afc",
   "metadata": {
    "execution": {
     "iopub.execute_input": "2025-09-02T05:00:01.949142Z",
     "iopub.status.busy": "2025-09-02T05:00:01.948772Z",
     "iopub.status.idle": "2025-09-02T05:00:01.986144Z",
     "shell.execute_reply": "2025-09-02T05:00:01.984982Z"
    },
    "papermill": {
     "duration": 0.050051,
     "end_time": "2025-09-02T05:00:01.988469",
     "exception": false,
     "start_time": "2025-09-02T05:00:01.938418",
     "status": "completed"
    },
    "tags": []
   },
   "outputs": [
    {
     "data": {
      "text/html": [
       "<div>\n",
       "<style scoped>\n",
       "    .dataframe tbody tr th:only-of-type {\n",
       "        vertical-align: middle;\n",
       "    }\n",
       "\n",
       "    .dataframe tbody tr th {\n",
       "        vertical-align: top;\n",
       "    }\n",
       "\n",
       "    .dataframe thead th {\n",
       "        text-align: right;\n",
       "    }\n",
       "</style>\n",
       "<table border=\"1\" class=\"dataframe\">\n",
       "  <thead>\n",
       "    <tr style=\"text-align: right;\">\n",
       "      <th></th>\n",
       "      <th>Table_Name</th>\n",
       "    </tr>\n",
       "  </thead>\n",
       "  <tbody>\n",
       "    <tr>\n",
       "      <th>0</th>\n",
       "      <td>main</td>\n",
       "    </tr>\n",
       "    <tr>\n",
       "      <th>1</th>\n",
       "      <td>noOutCompT</td>\n",
       "    </tr>\n",
       "    <tr>\n",
       "      <th>2</th>\n",
       "      <td>noOutCompY</td>\n",
       "    </tr>\n",
       "  </tbody>\n",
       "</table>\n",
       "</div>"
      ],
      "text/plain": [
       "   Table_Name\n",
       "0        main\n",
       "1  noOutCompT\n",
       "2  noOutCompY"
      ]
     },
     "execution_count": 4,
     "metadata": {},
     "output_type": "execute_result"
    }
   ],
   "source": [
    "# SQL query to select the table names\n",
    "QUERY = \"\"\"\n",
    "SELECT name as Table_Name\n",
    "FROM sqlite_master\n",
    "WHERE type = 'table'\n",
    "\"\"\"\n",
    "\n",
    "# Read the query to a df\n",
    "pd.read_sql_query(QUERY, conn)"
   ]
  },
  {
   "cell_type": "markdown",
   "id": "61c40623",
   "metadata": {
    "papermill": {
     "duration": 0.009277,
     "end_time": "2025-09-02T05:00:02.007039",
     "exception": false,
     "start_time": "2025-09-02T05:00:01.997762",
     "status": "completed"
    },
    "tags": []
   },
   "source": [
    "<h2 id=\"language\">Programming Languages</h2>\n",
    "\n",
    "Let's find the top 10 most popular programming languages the survey respondents worked with (`LanguageHaveWorkedWith`) and want to work with (`LanguageWantToWorkWith`).\n",
    "\n",
    "All of the technologies columns have values separated by a semicolon. Therefore, I can't group by the technology when querying the database. Instead, I will split each value into an array and explode the dataframe. This will separate each technology so it's only one technology in one cell."
   ]
  },
  {
   "cell_type": "markdown",
   "id": "e68dbbcb",
   "metadata": {
    "papermill": {
     "duration": 0.008484,
     "end_time": "2025-09-02T05:00:02.024415",
     "exception": false,
     "start_time": "2025-09-02T05:00:02.015931",
     "status": "completed"
    },
    "tags": []
   },
   "source": [
    "### Worked With"
   ]
  },
  {
   "cell_type": "code",
   "execution_count": 5,
   "id": "9ab00b13",
   "metadata": {
    "execution": {
     "iopub.execute_input": "2025-09-02T05:00:02.043815Z",
     "iopub.status.busy": "2025-09-02T05:00:02.043293Z",
     "iopub.status.idle": "2025-09-02T05:00:02.871803Z",
     "shell.execute_reply": "2025-09-02T05:00:02.870592Z"
    },
    "papermill": {
     "duration": 0.840125,
     "end_time": "2025-09-02T05:00:02.873395",
     "exception": false,
     "start_time": "2025-09-02T05:00:02.033270",
     "status": "completed"
    },
    "tags": []
   },
   "outputs": [],
   "source": [
    "# Select languages worked with\n",
    "QUERY = \"\"\"SELECT LanguageHaveWorkedWith FROM main\"\"\"\n",
    "\n",
    "# Read to df\n",
    "df_lang_worked = pd.read_sql(QUERY, conn)"
   ]
  },
  {
   "cell_type": "code",
   "execution_count": 6,
   "id": "a125933f",
   "metadata": {
    "execution": {
     "iopub.execute_input": "2025-09-02T05:00:02.892688Z",
     "iopub.status.busy": "2025-09-02T05:00:02.892228Z",
     "iopub.status.idle": "2025-09-02T05:00:03.179668Z",
     "shell.execute_reply": "2025-09-02T05:00:03.178359Z"
    },
    "papermill": {
     "duration": 0.298929,
     "end_time": "2025-09-02T05:00:03.181245",
     "exception": false,
     "start_time": "2025-09-02T05:00:02.882316",
     "status": "completed"
    },
    "tags": []
   },
   "outputs": [
    {
     "data": {
      "text/html": [
       "<div>\n",
       "<style scoped>\n",
       "    .dataframe tbody tr th:only-of-type {\n",
       "        vertical-align: middle;\n",
       "    }\n",
       "\n",
       "    .dataframe tbody tr th {\n",
       "        vertical-align: top;\n",
       "    }\n",
       "\n",
       "    .dataframe thead th {\n",
       "        text-align: right;\n",
       "    }\n",
       "</style>\n",
       "<table border=\"1\" class=\"dataframe\">\n",
       "  <thead>\n",
       "    <tr style=\"text-align: right;\">\n",
       "      <th></th>\n",
       "      <th>LanguageHaveWorkedWith</th>\n",
       "    </tr>\n",
       "  </thead>\n",
       "  <tbody>\n",
       "    <tr>\n",
       "      <th>0</th>\n",
       "      <td>Bash/Shell (all shells)</td>\n",
       "    </tr>\n",
       "    <tr>\n",
       "      <th>0</th>\n",
       "      <td>Go</td>\n",
       "    </tr>\n",
       "    <tr>\n",
       "      <th>0</th>\n",
       "      <td>HTML/CSS</td>\n",
       "    </tr>\n",
       "    <tr>\n",
       "      <th>0</th>\n",
       "      <td>Java</td>\n",
       "    </tr>\n",
       "    <tr>\n",
       "      <th>0</th>\n",
       "      <td>JavaScript</td>\n",
       "    </tr>\n",
       "    <tr>\n",
       "      <th>...</th>\n",
       "      <td>...</td>\n",
       "    </tr>\n",
       "    <tr>\n",
       "      <th>59744</th>\n",
       "      <td>Java</td>\n",
       "    </tr>\n",
       "    <tr>\n",
       "      <th>59744</th>\n",
       "      <td>JavaScript</td>\n",
       "    </tr>\n",
       "    <tr>\n",
       "      <th>59744</th>\n",
       "      <td>PHP</td>\n",
       "    </tr>\n",
       "    <tr>\n",
       "      <th>59744</th>\n",
       "      <td>Python</td>\n",
       "    </tr>\n",
       "    <tr>\n",
       "      <th>59744</th>\n",
       "      <td>TypeScript</td>\n",
       "    </tr>\n",
       "  </tbody>\n",
       "</table>\n",
       "<p>322233 rows × 1 columns</p>\n",
       "</div>"
      ],
      "text/plain": [
       "        LanguageHaveWorkedWith\n",
       "0      Bash/Shell (all shells)\n",
       "0                           Go\n",
       "0                     HTML/CSS\n",
       "0                         Java\n",
       "0                   JavaScript\n",
       "...                        ...\n",
       "59744                     Java\n",
       "59744               JavaScript\n",
       "59744                      PHP\n",
       "59744                   Python\n",
       "59744               TypeScript\n",
       "\n",
       "[322233 rows x 1 columns]"
      ]
     },
     "execution_count": 6,
     "metadata": {},
     "output_type": "execute_result"
    }
   ],
   "source": [
    "# Split by the separator\n",
    "df_lang_worked['LanguageHaveWorkedWith'] = df_lang_worked['LanguageHaveWorkedWith'].str.split(\";\")\n",
    "\n",
    "# Explode the df\n",
    "df_lang_worked = df_lang_worked.explode('LanguageHaveWorkedWith')\n",
    "df_lang_worked"
   ]
  },
  {
   "cell_type": "code",
   "execution_count": 7,
   "id": "84595edd",
   "metadata": {
    "execution": {
     "iopub.execute_input": "2025-09-02T05:00:03.200808Z",
     "iopub.status.busy": "2025-09-02T05:00:03.200357Z",
     "iopub.status.idle": "2025-09-02T05:00:03.246958Z",
     "shell.execute_reply": "2025-09-02T05:00:03.245962Z"
    },
    "papermill": {
     "duration": 0.058248,
     "end_time": "2025-09-02T05:00:03.248802",
     "exception": false,
     "start_time": "2025-09-02T05:00:03.190554",
     "status": "completed"
    },
    "tags": []
   },
   "outputs": [
    {
     "data": {
      "text/html": [
       "<div>\n",
       "<style scoped>\n",
       "    .dataframe tbody tr th:only-of-type {\n",
       "        vertical-align: middle;\n",
       "    }\n",
       "\n",
       "    .dataframe tbody tr th {\n",
       "        vertical-align: top;\n",
       "    }\n",
       "\n",
       "    .dataframe thead th {\n",
       "        text-align: right;\n",
       "    }\n",
       "</style>\n",
       "<table border=\"1\" class=\"dataframe\">\n",
       "  <thead>\n",
       "    <tr style=\"text-align: right;\">\n",
       "      <th></th>\n",
       "      <th>LanguageHaveWorkedWith</th>\n",
       "      <th>count</th>\n",
       "    </tr>\n",
       "  </thead>\n",
       "  <tbody>\n",
       "    <tr>\n",
       "      <th>0</th>\n",
       "      <td>JavaScript</td>\n",
       "      <td>37492</td>\n",
       "    </tr>\n",
       "    <tr>\n",
       "      <th>1</th>\n",
       "      <td>HTML/CSS</td>\n",
       "      <td>31816</td>\n",
       "    </tr>\n",
       "    <tr>\n",
       "      <th>2</th>\n",
       "      <td>Python</td>\n",
       "      <td>30719</td>\n",
       "    </tr>\n",
       "    <tr>\n",
       "      <th>3</th>\n",
       "      <td>SQL</td>\n",
       "      <td>30682</td>\n",
       "    </tr>\n",
       "    <tr>\n",
       "      <th>4</th>\n",
       "      <td>TypeScript</td>\n",
       "      <td>23150</td>\n",
       "    </tr>\n",
       "    <tr>\n",
       "      <th>5</th>\n",
       "      <td>Bash/Shell (all shells)</td>\n",
       "      <td>20412</td>\n",
       "    </tr>\n",
       "    <tr>\n",
       "      <th>6</th>\n",
       "      <td>Java</td>\n",
       "      <td>18239</td>\n",
       "    </tr>\n",
       "    <tr>\n",
       "      <th>7</th>\n",
       "      <td>C#</td>\n",
       "      <td>16318</td>\n",
       "    </tr>\n",
       "    <tr>\n",
       "      <th>8</th>\n",
       "      <td>C++</td>\n",
       "      <td>13827</td>\n",
       "    </tr>\n",
       "    <tr>\n",
       "      <th>9</th>\n",
       "      <td>C</td>\n",
       "      <td>12184</td>\n",
       "    </tr>\n",
       "  </tbody>\n",
       "</table>\n",
       "</div>"
      ],
      "text/plain": [
       "    LanguageHaveWorkedWith  count\n",
       "0               JavaScript  37492\n",
       "1                 HTML/CSS  31816\n",
       "2                   Python  30719\n",
       "3                      SQL  30682\n",
       "4               TypeScript  23150\n",
       "5  Bash/Shell (all shells)  20412\n",
       "6                     Java  18239\n",
       "7                       C#  16318\n",
       "8                      C++  13827\n",
       "9                        C  12184"
      ]
     },
     "execution_count": 7,
     "metadata": {},
     "output_type": "execute_result"
    }
   ],
   "source": [
    "# Find the top 10 languages\n",
    "top10_lang_worked = df_lang_worked['LanguageHaveWorkedWith'].value_counts().sort_values(ascending=False).head(10).reset_index()\n",
    "top10_lang_worked"
   ]
  },
  {
   "cell_type": "markdown",
   "id": "27ac1529",
   "metadata": {
    "papermill": {
     "duration": 0.009515,
     "end_time": "2025-09-02T05:00:03.270827",
     "exception": false,
     "start_time": "2025-09-02T05:00:03.261312",
     "status": "completed"
    },
    "tags": []
   },
   "source": [
    "### Want to Work With"
   ]
  },
  {
   "cell_type": "code",
   "execution_count": 8,
   "id": "d10e2154",
   "metadata": {
    "execution": {
     "iopub.execute_input": "2025-09-02T05:00:03.290176Z",
     "iopub.status.busy": "2025-09-02T05:00:03.289825Z",
     "iopub.status.idle": "2025-09-02T05:00:04.001052Z",
     "shell.execute_reply": "2025-09-02T05:00:03.999891Z"
    },
    "papermill": {
     "duration": 0.72322,
     "end_time": "2025-09-02T05:00:04.003003",
     "exception": false,
     "start_time": "2025-09-02T05:00:03.279783",
     "status": "completed"
    },
    "tags": []
   },
   "outputs": [],
   "source": [
    "# Select languages want to work with\n",
    "QUERY = \"\"\"SELECT LanguageWantToWorkWith FROM main\"\"\"\n",
    "\n",
    "# Read to df\n",
    "df_lang_want = pd.read_sql(QUERY, conn)"
   ]
  },
  {
   "cell_type": "code",
   "execution_count": 9,
   "id": "179c6e42",
   "metadata": {
    "execution": {
     "iopub.execute_input": "2025-09-02T05:00:04.096954Z",
     "iopub.status.busy": "2025-09-02T05:00:04.096536Z",
     "iopub.status.idle": "2025-09-02T05:00:04.219902Z",
     "shell.execute_reply": "2025-09-02T05:00:04.218693Z"
    },
    "papermill": {
     "duration": 0.136043,
     "end_time": "2025-09-02T05:00:04.221824",
     "exception": false,
     "start_time": "2025-09-02T05:00:04.085781",
     "status": "completed"
    },
    "tags": []
   },
   "outputs": [],
   "source": [
    "# Split the values into an array\n",
    "df_lang_want['LanguageWantToWorkWith'] = df_lang_want['LanguageWantToWorkWith'].str.split(\";\")\n",
    "\n",
    "# Explode the df\n",
    "df_lang_want = df_lang_want.explode('LanguageWantToWorkWith')"
   ]
  },
  {
   "cell_type": "code",
   "execution_count": 10,
   "id": "3c933fe6",
   "metadata": {
    "execution": {
     "iopub.execute_input": "2025-09-02T05:00:04.242494Z",
     "iopub.status.busy": "2025-09-02T05:00:04.242181Z",
     "iopub.status.idle": "2025-09-02T05:00:04.285946Z",
     "shell.execute_reply": "2025-09-02T05:00:04.284821Z"
    },
    "papermill": {
     "duration": 0.0559,
     "end_time": "2025-09-02T05:00:04.287657",
     "exception": false,
     "start_time": "2025-09-02T05:00:04.231757",
     "status": "completed"
    },
    "tags": []
   },
   "outputs": [
    {
     "data": {
      "text/html": [
       "<div>\n",
       "<style scoped>\n",
       "    .dataframe tbody tr th:only-of-type {\n",
       "        vertical-align: middle;\n",
       "    }\n",
       "\n",
       "    .dataframe tbody tr th {\n",
       "        vertical-align: top;\n",
       "    }\n",
       "\n",
       "    .dataframe thead th {\n",
       "        text-align: right;\n",
       "    }\n",
       "</style>\n",
       "<table border=\"1\" class=\"dataframe\">\n",
       "  <thead>\n",
       "    <tr style=\"text-align: right;\">\n",
       "      <th></th>\n",
       "      <th>LanguageWantToWorkWith</th>\n",
       "      <th>count</th>\n",
       "    </tr>\n",
       "  </thead>\n",
       "  <tbody>\n",
       "    <tr>\n",
       "      <th>0</th>\n",
       "      <td>Python</td>\n",
       "      <td>25047</td>\n",
       "    </tr>\n",
       "    <tr>\n",
       "      <th>1</th>\n",
       "      <td>JavaScript</td>\n",
       "      <td>23774</td>\n",
       "    </tr>\n",
       "    <tr>\n",
       "      <th>2</th>\n",
       "      <td>SQL</td>\n",
       "      <td>22400</td>\n",
       "    </tr>\n",
       "    <tr>\n",
       "      <th>3</th>\n",
       "      <td>HTML/CSS</td>\n",
       "      <td>20721</td>\n",
       "    </tr>\n",
       "    <tr>\n",
       "      <th>4</th>\n",
       "      <td>TypeScript</td>\n",
       "      <td>20239</td>\n",
       "    </tr>\n",
       "    <tr>\n",
       "      <th>5</th>\n",
       "      <td>Rust</td>\n",
       "      <td>17232</td>\n",
       "    </tr>\n",
       "    <tr>\n",
       "      <th>6</th>\n",
       "      <td>Go</td>\n",
       "      <td>13837</td>\n",
       "    </tr>\n",
       "    <tr>\n",
       "      <th>7</th>\n",
       "      <td>Bash/Shell (all shells)</td>\n",
       "      <td>13744</td>\n",
       "    </tr>\n",
       "    <tr>\n",
       "      <th>8</th>\n",
       "      <td>C#</td>\n",
       "      <td>12921</td>\n",
       "    </tr>\n",
       "    <tr>\n",
       "      <th>9</th>\n",
       "      <td>C++</td>\n",
       "      <td>10873</td>\n",
       "    </tr>\n",
       "  </tbody>\n",
       "</table>\n",
       "</div>"
      ],
      "text/plain": [
       "    LanguageWantToWorkWith  count\n",
       "0                   Python  25047\n",
       "1               JavaScript  23774\n",
       "2                      SQL  22400\n",
       "3                 HTML/CSS  20721\n",
       "4               TypeScript  20239\n",
       "5                     Rust  17232\n",
       "6                       Go  13837\n",
       "7  Bash/Shell (all shells)  13744\n",
       "8                       C#  12921\n",
       "9                      C++  10873"
      ]
     },
     "execution_count": 10,
     "metadata": {},
     "output_type": "execute_result"
    }
   ],
   "source": [
    "# Finding the top 10\n",
    "top10_lang_want = df_lang_want['LanguageWantToWorkWith'].value_counts().sort_values(ascending=False).head(10).reset_index()\n",
    "top10_lang_want\n"
   ]
  },
  {
   "cell_type": "markdown",
   "id": "3a9b336f",
   "metadata": {
    "papermill": {
     "duration": 0.009781,
     "end_time": "2025-09-02T05:00:04.309518",
     "exception": false,
     "start_time": "2025-09-02T05:00:04.299737",
     "status": "completed"
    },
    "tags": []
   },
   "source": [
    "### Visualizing\n",
    "\n",
    "Let's visualize both the top 10 languages worked with and want to work with together."
   ]
  },
  {
   "cell_type": "code",
   "execution_count": 11,
   "id": "dea07b5f",
   "metadata": {
    "execution": {
     "iopub.execute_input": "2025-09-02T05:00:04.330906Z",
     "iopub.status.busy": "2025-09-02T05:00:04.330568Z",
     "iopub.status.idle": "2025-09-02T05:00:05.538688Z",
     "shell.execute_reply": "2025-09-02T05:00:05.537739Z"
    },
    "papermill": {
     "duration": 1.221901,
     "end_time": "2025-09-02T05:00:05.541229",
     "exception": false,
     "start_time": "2025-09-02T05:00:04.319328",
     "status": "completed"
    },
    "tags": []
   },
   "outputs": [
    {
     "data": {
      "image/png": "[encoded data removed]",
      "text/plain": [
       "<Figure size 1000x1000 with 2 Axes>"
      ]
     },
     "metadata": {},
     "output_type": "display_data"
    }
   ],
   "source": [
    "fig, axes = plt.subplots(2,1, figsize=(10,10))\n",
    "fig.suptitle(\"Top 10 Languages: Worked With & Wanted\", fontsize=20)\n",
    "\n",
    "# Bar graph #1 - Top 10 Languages Worked With\n",
    "sns.barplot(top10_lang_worked, x='count', y='LanguageHaveWorkedWith', hue='LanguageHaveWorkedWith', edgecolor = 'black', ax=axes[0], dodge = False)\n",
    "axes[0].set_title(\"Languages Used\")\n",
    "axes[0].set_ylabel(\"Programming Language\")\n",
    "axes[0].set_xlabel(\"Count\")\n",
    "axes[0].get_legend().remove()\n",
    "\n",
    "# Bar graph #2 - Top 10 Languages Wanted\n",
    "sns.barplot(top10_lang_want, x='count', y='LanguageWantToWorkWith', hue='LanguageWantToWorkWith', edgecolor = 'black', ax=axes[1], dodge = False)\n",
    "axes[1].set_title(\"Languages Wanted\")\n",
    "axes[1].set_ylabel(\"Programming Language\")\n",
    "axes[1].set_xlabel(\"Count\")\n",
    "axes[1].get_legend().remove()\n",
    "\n",
    "plt.tight_layout()\n",
    "plt.show()"
   ]
  },
  {
   "cell_type": "markdown",
   "id": "5d4fe22d",
   "metadata": {
    "papermill": {
     "duration": 0.010326,
     "end_time": "2025-09-02T05:00:05.563000",
     "exception": false,
     "start_time": "2025-09-02T05:00:05.552674",
     "status": "completed"
    },
    "tags": []
   },
   "source": [
    "Out the top 10, 9 languages were present in both cases. `Java` is in the top 10 for languages worked with but not in the top 10 for languages wanted to use. Conversely, `Go` is in the top 10 for languages wanted to want with but not in languages wanted to use. "
   ]
  },
  {
   "cell_type": "markdown",
   "id": "6253f72b",
   "metadata": {
    "papermill": {
     "duration": 0.01053,
     "end_time": "2025-09-02T05:00:05.584649",
     "exception": false,
     "start_time": "2025-09-02T05:00:05.574119",
     "status": "completed"
    },
    "tags": []
   },
   "source": [
    "<h2 id=\"database\">Databases</h2>\n",
    "\n",
    "Let's find the top 10 most popular databases respondents worked with (`DatabaseHaveWorkedWith`) and want to work with (`DatabaseWantToWorkWith`)."
   ]
  },
  {
   "cell_type": "markdown",
   "id": "7ba6a44e",
   "metadata": {
    "papermill": {
     "duration": 0.010658,
     "end_time": "2025-09-02T05:00:05.606021",
     "exception": false,
     "start_time": "2025-09-02T05:00:05.595363",
     "status": "completed"
    },
    "tags": []
   },
   "source": [
    "### Worked With"
   ]
  },
  {
   "cell_type": "code",
   "execution_count": 12,
   "id": "8456dbda",
   "metadata": {
    "execution": {
     "iopub.execute_input": "2025-09-02T05:00:05.629067Z",
     "iopub.status.busy": "2025-09-02T05:00:05.628729Z",
     "iopub.status.idle": "2025-09-02T05:00:06.146705Z",
     "shell.execute_reply": "2025-09-02T05:00:06.144958Z"
    },
    "papermill": {
     "duration": 0.531689,
     "end_time": "2025-09-02T05:00:06.148376",
     "exception": false,
     "start_time": "2025-09-02T05:00:05.616687",
     "status": "completed"
    },
    "tags": []
   },
   "outputs": [],
   "source": [
    "# Select databases worked with\n",
    "QUERY = \"\"\"SELECT DatabaseHaveWorkedWith FROM main\"\"\"\n",
    "\n",
    "# Read to df\n",
    "df_db_worked = pd.read_sql(QUERY, conn)"
   ]
  },
  {
   "cell_type": "code",
   "execution_count": 13,
   "id": "a0e31d62",
   "metadata": {
    "execution": {
     "iopub.execute_input": "2025-09-02T05:00:06.171136Z",
     "iopub.status.busy": "2025-09-02T05:00:06.170836Z",
     "iopub.status.idle": "2025-09-02T05:00:06.385287Z",
     "shell.execute_reply": "2025-09-02T05:00:06.384230Z"
    },
    "papermill": {
     "duration": 0.228067,
     "end_time": "2025-09-02T05:00:06.387238",
     "exception": false,
     "start_time": "2025-09-02T05:00:06.159171",
     "status": "completed"
    },
    "tags": []
   },
   "outputs": [],
   "source": [
    "# Split values into array\n",
    "df_db_worked['DatabaseHaveWorkedWith'] = df_db_worked['DatabaseHaveWorkedWith'].str.split(\";\")\n",
    "\n",
    "# Explode the df\n",
    "df_db_worked = df_db_worked.explode('DatabaseHaveWorkedWith')"
   ]
  },
  {
   "cell_type": "code",
   "execution_count": 14,
   "id": "e98a3a15",
   "metadata": {
    "execution": {
     "iopub.execute_input": "2025-09-02T05:00:06.412261Z",
     "iopub.status.busy": "2025-09-02T05:00:06.411909Z",
     "iopub.status.idle": "2025-09-02T05:00:06.446953Z",
     "shell.execute_reply": "2025-09-02T05:00:06.445912Z"
    },
    "papermill": {
     "duration": 0.049745,
     "end_time": "2025-09-02T05:00:06.448872",
     "exception": false,
     "start_time": "2025-09-02T05:00:06.399127",
     "status": "completed"
    },
    "tags": []
   },
   "outputs": [
    {
     "data": {
      "text/html": [
       "<div>\n",
       "<style scoped>\n",
       "    .dataframe tbody tr th:only-of-type {\n",
       "        vertical-align: middle;\n",
       "    }\n",
       "\n",
       "    .dataframe tbody tr th {\n",
       "        vertical-align: top;\n",
       "    }\n",
       "\n",
       "    .dataframe thead th {\n",
       "        text-align: right;\n",
       "    }\n",
       "</style>\n",
       "<table border=\"1\" class=\"dataframe\">\n",
       "  <thead>\n",
       "    <tr style=\"text-align: right;\">\n",
       "      <th></th>\n",
       "      <th>DatabaseHaveWorkedWith</th>\n",
       "      <th>count</th>\n",
       "    </tr>\n",
       "  </thead>\n",
       "  <tbody>\n",
       "    <tr>\n",
       "      <th>0</th>\n",
       "      <td>PostgreSQL</td>\n",
       "      <td>25504</td>\n",
       "    </tr>\n",
       "    <tr>\n",
       "      <th>1</th>\n",
       "      <td>MySQL</td>\n",
       "      <td>21058</td>\n",
       "    </tr>\n",
       "    <tr>\n",
       "      <th>2</th>\n",
       "      <td>SQLite</td>\n",
       "      <td>17347</td>\n",
       "    </tr>\n",
       "    <tr>\n",
       "      <th>3</th>\n",
       "      <td>Microsoft SQL Server</td>\n",
       "      <td>13250</td>\n",
       "    </tr>\n",
       "    <tr>\n",
       "      <th>4</th>\n",
       "      <td>MongoDB</td>\n",
       "      <td>12992</td>\n",
       "    </tr>\n",
       "    <tr>\n",
       "      <th>5</th>\n",
       "      <td>Redis</td>\n",
       "      <td>10451</td>\n",
       "    </tr>\n",
       "    <tr>\n",
       "      <th>6</th>\n",
       "      <td>MariaDB</td>\n",
       "      <td>8979</td>\n",
       "    </tr>\n",
       "    <tr>\n",
       "      <th>7</th>\n",
       "      <td>Elasticsearch</td>\n",
       "      <td>6523</td>\n",
       "    </tr>\n",
       "    <tr>\n",
       "      <th>8</th>\n",
       "      <td>Oracle</td>\n",
       "      <td>5253</td>\n",
       "    </tr>\n",
       "    <tr>\n",
       "      <th>9</th>\n",
       "      <td>Dynamodb</td>\n",
       "      <td>4133</td>\n",
       "    </tr>\n",
       "  </tbody>\n",
       "</table>\n",
       "</div>"
      ],
      "text/plain": [
       "  DatabaseHaveWorkedWith  count\n",
       "0             PostgreSQL  25504\n",
       "1                  MySQL  21058\n",
       "2                 SQLite  17347\n",
       "3   Microsoft SQL Server  13250\n",
       "4                MongoDB  12992\n",
       "5                  Redis  10451\n",
       "6                MariaDB   8979\n",
       "7          Elasticsearch   6523\n",
       "8                 Oracle   5253\n",
       "9               Dynamodb   4133"
      ]
     },
     "execution_count": 14,
     "metadata": {},
     "output_type": "execute_result"
    }
   ],
   "source": [
    "# Find the top 10\n",
    "top10_db_worked = df_db_worked.value_counts().sort_values(ascending=False).head(10).reset_index()\n",
    "top10_db_worked"
   ]
  },
  {
   "cell_type": "markdown",
   "id": "fdf06139",
   "metadata": {
    "papermill": {
     "duration": 0.010637,
     "end_time": "2025-09-02T05:00:06.470749",
     "exception": false,
     "start_time": "2025-09-02T05:00:06.460112",
     "status": "completed"
    },
    "tags": []
   },
   "source": [
    "### Want to Work With"
   ]
  },
  {
   "cell_type": "code",
   "execution_count": 15,
   "id": "702a1cab",
   "metadata": {
    "execution": {
     "iopub.execute_input": "2025-09-02T05:00:06.495229Z",
     "iopub.status.busy": "2025-09-02T05:00:06.494205Z",
     "iopub.status.idle": "2025-09-02T05:00:07.033745Z",
     "shell.execute_reply": "2025-09-02T05:00:07.032704Z"
    },
    "papermill": {
     "duration": 0.553077,
     "end_time": "2025-09-02T05:00:07.035347",
     "exception": false,
     "start_time": "2025-09-02T05:00:06.482270",
     "status": "completed"
    },
    "tags": []
   },
   "outputs": [],
   "source": [
    "# Select databases wanted\n",
    "QUERY = \"\"\"SELECT DatabaseWantToWorkWith FROM main\"\"\"\n",
    "\n",
    "# Read to df\n",
    "df_db_want = pd.read_sql(QUERY, conn)"
   ]
  },
  {
   "cell_type": "code",
   "execution_count": 16,
   "id": "2a89ccc4",
   "metadata": {
    "execution": {
     "iopub.execute_input": "2025-09-02T05:00:07.058714Z",
     "iopub.status.busy": "2025-09-02T05:00:07.058261Z",
     "iopub.status.idle": "2025-09-02T05:00:07.137921Z",
     "shell.execute_reply": "2025-09-02T05:00:07.136644Z"
    },
    "papermill": {
     "duration": 0.093256,
     "end_time": "2025-09-02T05:00:07.139790",
     "exception": false,
     "start_time": "2025-09-02T05:00:07.046534",
     "status": "completed"
    },
    "tags": []
   },
   "outputs": [],
   "source": [
    "# Split the values\n",
    "df_db_want['DatabaseWantToWorkWith'] = df_db_want['DatabaseWantToWorkWith'].str.split(\";\")\n",
    "\n",
    "# Explode the df\n",
    "df_db_want = df_db_want.explode('DatabaseWantToWorkWith')"
   ]
  },
  {
   "cell_type": "code",
   "execution_count": 17,
   "id": "351b5189",
   "metadata": {
    "execution": {
     "iopub.execute_input": "2025-09-02T05:00:07.164583Z",
     "iopub.status.busy": "2025-09-02T05:00:07.164288Z",
     "iopub.status.idle": "2025-09-02T05:00:07.196894Z",
     "shell.execute_reply": "2025-09-02T05:00:07.195695Z"
    },
    "papermill": {
     "duration": 0.046316,
     "end_time": "2025-09-02T05:00:07.198586",
     "exception": false,
     "start_time": "2025-09-02T05:00:07.152270",
     "status": "completed"
    },
    "tags": []
   },
   "outputs": [
    {
     "data": {
      "text/html": [
       "<div>\n",
       "<style scoped>\n",
       "    .dataframe tbody tr th:only-of-type {\n",
       "        vertical-align: middle;\n",
       "    }\n",
       "\n",
       "    .dataframe tbody tr th {\n",
       "        vertical-align: top;\n",
       "    }\n",
       "\n",
       "    .dataframe thead th {\n",
       "        text-align: right;\n",
       "    }\n",
       "</style>\n",
       "<table border=\"1\" class=\"dataframe\">\n",
       "  <thead>\n",
       "    <tr style=\"text-align: right;\">\n",
       "      <th></th>\n",
       "      <th>DatabaseWantToWorkWith</th>\n",
       "      <th>count</th>\n",
       "    </tr>\n",
       "  </thead>\n",
       "  <tbody>\n",
       "    <tr>\n",
       "      <th>0</th>\n",
       "      <td>PostgreSQL</td>\n",
       "      <td>23977</td>\n",
       "    </tr>\n",
       "    <tr>\n",
       "      <th>1</th>\n",
       "      <td>SQLite</td>\n",
       "      <td>13474</td>\n",
       "    </tr>\n",
       "    <tr>\n",
       "      <th>2</th>\n",
       "      <td>MySQL</td>\n",
       "      <td>12239</td>\n",
       "    </tr>\n",
       "    <tr>\n",
       "      <th>3</th>\n",
       "      <td>MongoDB</td>\n",
       "      <td>10964</td>\n",
       "    </tr>\n",
       "    <tr>\n",
       "      <th>4</th>\n",
       "      <td>Redis</td>\n",
       "      <td>10837</td>\n",
       "    </tr>\n",
       "    <tr>\n",
       "      <th>5</th>\n",
       "      <td>Microsoft SQL Server</td>\n",
       "      <td>7883</td>\n",
       "    </tr>\n",
       "    <tr>\n",
       "      <th>6</th>\n",
       "      <td>Elasticsearch</td>\n",
       "      <td>6243</td>\n",
       "    </tr>\n",
       "    <tr>\n",
       "      <th>7</th>\n",
       "      <td>MariaDB</td>\n",
       "      <td>5940</td>\n",
       "    </tr>\n",
       "    <tr>\n",
       "      <th>8</th>\n",
       "      <td>Dynamodb</td>\n",
       "      <td>3501</td>\n",
       "    </tr>\n",
       "    <tr>\n",
       "      <th>9</th>\n",
       "      <td>Supabase</td>\n",
       "      <td>2924</td>\n",
       "    </tr>\n",
       "  </tbody>\n",
       "</table>\n",
       "</div>"
      ],
      "text/plain": [
       "  DatabaseWantToWorkWith  count\n",
       "0             PostgreSQL  23977\n",
       "1                 SQLite  13474\n",
       "2                  MySQL  12239\n",
       "3                MongoDB  10964\n",
       "4                  Redis  10837\n",
       "5   Microsoft SQL Server   7883\n",
       "6          Elasticsearch   6243\n",
       "7                MariaDB   5940\n",
       "8               Dynamodb   3501\n",
       "9               Supabase   2924"
      ]
     },
     "execution_count": 17,
     "metadata": {},
     "output_type": "execute_result"
    }
   ],
   "source": [
    "# Find the top 10\n",
    "top10_db_want = df_db_want.value_counts().sort_values(ascending=False).head(10).reset_index()\n",
    "top10_db_want"
   ]
  },
  {
   "cell_type": "markdown",
   "id": "9c9471ea",
   "metadata": {
    "papermill": {
     "duration": 0.01186,
     "end_time": "2025-09-02T05:00:07.223144",
     "exception": false,
     "start_time": "2025-09-02T05:00:07.211284",
     "status": "completed"
    },
    "tags": []
   },
   "source": [
    "### Visualizing \n",
    "\n",
    "Let's visualize both instances and compare the differences."
   ]
  },
  {
   "cell_type": "code",
   "execution_count": 18,
   "id": "43898dbe",
   "metadata": {
    "execution": {
     "iopub.execute_input": "2025-09-02T05:00:07.247774Z",
     "iopub.status.busy": "2025-09-02T05:00:07.247416Z",
     "iopub.status.idle": "2025-09-02T05:00:08.321806Z",
     "shell.execute_reply": "2025-09-02T05:00:08.320666Z"
    },
    "papermill": {
     "duration": 1.088672,
     "end_time": "2025-09-02T05:00:08.324066",
     "exception": false,
     "start_time": "2025-09-02T05:00:07.235394",
     "status": "completed"
    },
    "tags": []
   },
   "outputs": [
    {
     "data": {
      "image/png": "[encoded data removed]",
      "text/plain": [
       "<Figure size 1000x1000 with 2 Axes>"
      ]
     },
     "metadata": {},
     "output_type": "display_data"
    }
   ],
   "source": [
    "fig, axes = plt.subplots(2,1, figsize=(10,10))\n",
    "fig.suptitle(\"Top 10 Databases: Worked With & Wanted\", fontsize=20)\n",
    "\n",
    "# Bar graph #1 - Top 10 Databases Worked With\n",
    "sns.barplot(top10_db_worked, x='count', y='DatabaseHaveWorkedWith', hue='DatabaseHaveWorkedWith', edgecolor = 'black', ax=axes[0], dodge = False)\n",
    "axes[0].set_title(\"Database Used\")\n",
    "axes[0].set_ylabel(\"Database\")\n",
    "axes[0].set_xlabel(\"Count\")\n",
    "axes[0].get_legend().remove()\n",
    "\n",
    "# Bar graph #2 - Top 10 Databases Wanted\n",
    "sns.barplot(top10_db_want, x='count', y='DatabaseWantToWorkWith', hue='DatabaseWantToWorkWith', edgecolor = 'black', ax=axes[1], dodge = False)\n",
    "axes[1].set_title(\"Database Wanted\")\n",
    "axes[1].set_ylabel(\"Database\")\n",
    "axes[1].set_xlabel(\"Count\")\n",
    "axes[1].get_legend().remove()\n",
    "\n",
    "plt.tight_layout()\n",
    "plt.show()"
   ]
  },
  {
   "cell_type": "markdown",
   "id": "360f51c0",
   "metadata": {
    "papermill": {
     "duration": 0.014645,
     "end_time": "2025-09-02T05:00:08.352842",
     "exception": false,
     "start_time": "2025-09-02T05:00:08.338197",
     "status": "completed"
    },
    "tags": []
   },
   "source": [
    "There is also not much variation between both cases. 9 databases are present in both databases used and desired. The `Oracle` database is only in the 'worked with' plot and the `Supabase` database in only in the 'wanted' plot."
   ]
  },
  {
   "cell_type": "markdown",
   "id": "10a9268a",
   "metadata": {
    "papermill": {
     "duration": 0.014194,
     "end_time": "2025-09-02T05:00:08.381151",
     "exception": false,
     "start_time": "2025-09-02T05:00:08.366957",
     "status": "completed"
    },
    "tags": []
   },
   "source": [
    "<h2 id=\"platform\">Platforms</h2>\n",
    "\n",
    "Let's find the top 10 most popular platforms respondents worked with (`PlatformHaveWorkedWith`) and want to work with (`PlatformWantToWorkWith`)."
   ]
  },
  {
   "cell_type": "markdown",
   "id": "b8d109aa",
   "metadata": {
    "papermill": {
     "duration": 0.014452,
     "end_time": "2025-09-02T05:00:08.409994",
     "exception": false,
     "start_time": "2025-09-02T05:00:08.395542",
     "status": "completed"
    },
    "tags": []
   },
   "source": [
    "### Worked With"
   ]
  },
  {
   "cell_type": "code",
   "execution_count": 19,
   "id": "4c85e18a",
   "metadata": {
    "execution": {
     "iopub.execute_input": "2025-09-02T05:00:08.440351Z",
     "iopub.status.busy": "2025-09-02T05:00:08.439996Z",
     "iopub.status.idle": "2025-09-02T05:00:09.042841Z",
     "shell.execute_reply": "2025-09-02T05:00:09.041704Z"
    },
    "papermill": {
     "duration": 0.619335,
     "end_time": "2025-09-02T05:00:09.044562",
     "exception": false,
     "start_time": "2025-09-02T05:00:08.425227",
     "status": "completed"
    },
    "tags": []
   },
   "outputs": [
    {
     "data": {
      "text/html": [
       "<div>\n",
       "<style scoped>\n",
       "    .dataframe tbody tr th:only-of-type {\n",
       "        vertical-align: middle;\n",
       "    }\n",
       "\n",
       "    .dataframe tbody tr th {\n",
       "        vertical-align: top;\n",
       "    }\n",
       "\n",
       "    .dataframe thead th {\n",
       "        text-align: right;\n",
       "    }\n",
       "</style>\n",
       "<table border=\"1\" class=\"dataframe\">\n",
       "  <thead>\n",
       "    <tr style=\"text-align: right;\">\n",
       "      <th></th>\n",
       "      <th>PlatformHaveWorkedWith</th>\n",
       "      <th>count</th>\n",
       "    </tr>\n",
       "  </thead>\n",
       "  <tbody>\n",
       "    <tr>\n",
       "      <th>0</th>\n",
       "      <td>Amazon Web Services (AWS)</td>\n",
       "      <td>22139</td>\n",
       "    </tr>\n",
       "    <tr>\n",
       "      <th>1</th>\n",
       "      <td>Microsoft Azure</td>\n",
       "      <td>12818</td>\n",
       "    </tr>\n",
       "    <tr>\n",
       "      <th>2</th>\n",
       "      <td>Google Cloud</td>\n",
       "      <td>11555</td>\n",
       "    </tr>\n",
       "    <tr>\n",
       "      <th>3</th>\n",
       "      <td>Cloudflare</td>\n",
       "      <td>6953</td>\n",
       "    </tr>\n",
       "    <tr>\n",
       "      <th>4</th>\n",
       "      <td>Firebase</td>\n",
       "      <td>6419</td>\n",
       "    </tr>\n",
       "    <tr>\n",
       "      <th>5</th>\n",
       "      <td>Vercel</td>\n",
       "      <td>5481</td>\n",
       "    </tr>\n",
       "    <tr>\n",
       "      <th>6</th>\n",
       "      <td>Digital Ocean</td>\n",
       "      <td>5398</td>\n",
       "    </tr>\n",
       "    <tr>\n",
       "      <th>7</th>\n",
       "      <td>Heroku</td>\n",
       "      <td>3786</td>\n",
       "    </tr>\n",
       "    <tr>\n",
       "      <th>8</th>\n",
       "      <td>Netlify</td>\n",
       "      <td>3230</td>\n",
       "    </tr>\n",
       "    <tr>\n",
       "      <th>9</th>\n",
       "      <td>VMware</td>\n",
       "      <td>3028</td>\n",
       "    </tr>\n",
       "  </tbody>\n",
       "</table>\n",
       "</div>"
      ],
      "text/plain": [
       "      PlatformHaveWorkedWith  count\n",
       "0  Amazon Web Services (AWS)  22139\n",
       "1            Microsoft Azure  12818\n",
       "2               Google Cloud  11555\n",
       "3                 Cloudflare   6953\n",
       "4                   Firebase   6419\n",
       "5                     Vercel   5481\n",
       "6              Digital Ocean   5398\n",
       "7                     Heroku   3786\n",
       "8                    Netlify   3230\n",
       "9                     VMware   3028"
      ]
     },
     "execution_count": 19,
     "metadata": {},
     "output_type": "execute_result"
    }
   ],
   "source": [
    "# Select the platforms worked and store to a df\n",
    "df_plat_worked = pd.read_sql(\"SELECT PlatformHaveWorkedWith FROM main\", conn)\n",
    "\n",
    "# Split the values\n",
    "df_plat_worked['PlatformHaveWorkedWith'] = df_plat_worked['PlatformHaveWorkedWith'].str.split(\";\")\n",
    "\n",
    "# Explode the df\n",
    "df_plat_worked = df_plat_worked.explode('PlatformHaveWorkedWith')\n",
    "\n",
    "# Find the top 10\n",
    "top10_plat_worked = df_plat_worked.value_counts().sort_values(ascending=False).head(10).reset_index()\n",
    "top10_plat_worked "
   ]
  },
  {
   "cell_type": "markdown",
   "id": "a647db7c",
   "metadata": {
    "papermill": {
     "duration": 0.011913,
     "end_time": "2025-09-02T05:00:09.069002",
     "exception": false,
     "start_time": "2025-09-02T05:00:09.057089",
     "status": "completed"
    },
    "tags": []
   },
   "source": [
    "### Want to Work With"
   ]
  },
  {
   "cell_type": "code",
   "execution_count": 20,
   "id": "36521524",
   "metadata": {
    "execution": {
     "iopub.execute_input": "2025-09-02T05:00:09.095294Z",
     "iopub.status.busy": "2025-09-02T05:00:09.094994Z",
     "iopub.status.idle": "2025-09-02T05:00:09.819347Z",
     "shell.execute_reply": "2025-09-02T05:00:09.818239Z"
    },
    "papermill": {
     "duration": 0.739985,
     "end_time": "2025-09-02T05:00:09.821435",
     "exception": false,
     "start_time": "2025-09-02T05:00:09.081450",
     "status": "completed"
    },
    "tags": []
   },
   "outputs": [
    {
     "data": {
      "text/html": [
       "<div>\n",
       "<style scoped>\n",
       "    .dataframe tbody tr th:only-of-type {\n",
       "        vertical-align: middle;\n",
       "    }\n",
       "\n",
       "    .dataframe tbody tr th {\n",
       "        vertical-align: top;\n",
       "    }\n",
       "\n",
       "    .dataframe thead th {\n",
       "        text-align: right;\n",
       "    }\n",
       "</style>\n",
       "<table border=\"1\" class=\"dataframe\">\n",
       "  <thead>\n",
       "    <tr style=\"text-align: right;\">\n",
       "      <th></th>\n",
       "      <th>PlatformWantToWorkWith</th>\n",
       "      <th>count</th>\n",
       "    </tr>\n",
       "  </thead>\n",
       "  <tbody>\n",
       "    <tr>\n",
       "      <th>0</th>\n",
       "      <td>Amazon Web Services (AWS)</td>\n",
       "      <td>18004</td>\n",
       "    </tr>\n",
       "    <tr>\n",
       "      <th>1</th>\n",
       "      <td>Microsoft Azure</td>\n",
       "      <td>10278</td>\n",
       "    </tr>\n",
       "    <tr>\n",
       "      <th>2</th>\n",
       "      <td>Google Cloud</td>\n",
       "      <td>9739</td>\n",
       "    </tr>\n",
       "    <tr>\n",
       "      <th>3</th>\n",
       "      <td>Cloudflare</td>\n",
       "      <td>6862</td>\n",
       "    </tr>\n",
       "    <tr>\n",
       "      <th>4</th>\n",
       "      <td>Firebase</td>\n",
       "      <td>4933</td>\n",
       "    </tr>\n",
       "    <tr>\n",
       "      <th>5</th>\n",
       "      <td>Vercel</td>\n",
       "      <td>4602</td>\n",
       "    </tr>\n",
       "    <tr>\n",
       "      <th>6</th>\n",
       "      <td>Digital Ocean</td>\n",
       "      <td>4496</td>\n",
       "    </tr>\n",
       "    <tr>\n",
       "      <th>7</th>\n",
       "      <td>Hetzner</td>\n",
       "      <td>2455</td>\n",
       "    </tr>\n",
       "    <tr>\n",
       "      <th>8</th>\n",
       "      <td>Supabase</td>\n",
       "      <td>2277</td>\n",
       "    </tr>\n",
       "    <tr>\n",
       "      <th>9</th>\n",
       "      <td>Netlify</td>\n",
       "      <td>2208</td>\n",
       "    </tr>\n",
       "  </tbody>\n",
       "</table>\n",
       "</div>"
      ],
      "text/plain": [
       "      PlatformWantToWorkWith  count\n",
       "0  Amazon Web Services (AWS)  18004\n",
       "1            Microsoft Azure  10278\n",
       "2               Google Cloud   9739\n",
       "3                 Cloudflare   6862\n",
       "4                   Firebase   4933\n",
       "5                     Vercel   4602\n",
       "6              Digital Ocean   4496\n",
       "7                    Hetzner   2455\n",
       "8                   Supabase   2277\n",
       "9                    Netlify   2208"
      ]
     },
     "execution_count": 20,
     "metadata": {},
     "output_type": "execute_result"
    }
   ],
   "source": [
    "# Select the platforms wanted and store to a df\n",
    "df_plat_want = pd.read_sql(\"SELECT PlatformWantToWorkWith FROM main\", conn)\n",
    "\n",
    "# Split the values\n",
    "df_plat_want['PlatformWantToWorkWith'] = df_plat_want['PlatformWantToWorkWith'].str.split(\";\")\n",
    "\n",
    "# Explode the df\n",
    "df_plat_want = df_plat_want.explode('PlatformWantToWorkWith')\n",
    "\n",
    "# Find the top 10\n",
    "top10_plat_want = df_plat_want.value_counts().sort_values(ascending=False).head(10).reset_index()\n",
    "top10_plat_want "
   ]
  },
  {
   "cell_type": "markdown",
   "id": "f315d303",
   "metadata": {
    "papermill": {
     "duration": 0.013134,
     "end_time": "2025-09-02T05:00:09.847687",
     "exception": false,
     "start_time": "2025-09-02T05:00:09.834553",
     "status": "completed"
    },
    "tags": []
   },
   "source": [
    "### Visualizing"
   ]
  },
  {
   "cell_type": "code",
   "execution_count": 21,
   "id": "6c4ea2e7",
   "metadata": {
    "execution": {
     "iopub.execute_input": "2025-09-02T05:00:09.874967Z",
     "iopub.status.busy": "2025-09-02T05:00:09.874571Z",
     "iopub.status.idle": "2025-09-02T05:00:10.813980Z",
     "shell.execute_reply": "2025-09-02T05:00:10.812593Z"
    },
    "papermill": {
     "duration": 0.955488,
     "end_time": "2025-09-02T05:00:10.816186",
     "exception": false,
     "start_time": "2025-09-02T05:00:09.860698",
     "status": "completed"
    },
    "tags": []
   },
   "outputs": [
    {
     "data": {
      "image/png": "[encoded data removed]",
      "text/plain": [
       "<Figure size 1000x1000 with 2 Axes>"
      ]
     },
     "metadata": {},
     "output_type": "display_data"
    }
   ],
   "source": [
    "fig, axes = plt.subplots(2,1, figsize=(10,10))\n",
    "fig.suptitle(\"Top 10 Platforms: Worked With & Wanted\", fontsize=20)\n",
    "\n",
    "# Bar graph #1 - Top 10 Platforms Worked With\n",
    "sns.barplot(top10_plat_worked, x='count', y='PlatformHaveWorkedWith', hue='PlatformHaveWorkedWith', edgecolor = 'black', ax=axes[0], dodge = False)\n",
    "axes[0].set_title(\"Platform Used\")\n",
    "axes[0].set_ylabel(\"Platform\")\n",
    "axes[0].set_xlabel(\"Count\")\n",
    "axes[0].get_legend().remove()\n",
    "\n",
    "# Bar graph #2 - Top 10 Platforms Wanted\n",
    "sns.barplot(top10_plat_want, x='count', y='PlatformWantToWorkWith', hue='PlatformWantToWorkWith', edgecolor = 'black', ax=axes[1], dodge = False)\n",
    "axes[1].set_title(\"Platform Wanted\")\n",
    "axes[1].set_ylabel(\"Platform\")\n",
    "axes[1].set_xlabel(\"Count\")\n",
    "axes[1].get_legend().remove()\n",
    "\n",
    "plt.tight_layout()\n",
    "plt.show()"
   ]
  },
  {
   "cell_type": "markdown",
   "id": "a455f3dc",
   "metadata": {
    "papermill": {
     "duration": 0.014365,
     "end_time": "2025-09-02T05:00:10.845679",
     "exception": false,
     "start_time": "2025-09-02T05:00:10.831314",
     "status": "completed"
    },
    "tags": []
   },
   "source": [
    "Once again, platforms follow a similar trend like databases and languages. 9 platforms out of 10 are present in both plots. `VMware` is only in the 'worked with' graph and `Supabase` is only in the wanted graph. Interestingly, `Supabase` was also in the top 10 databases desired."
   ]
  },
  {
   "cell_type": "markdown",
   "id": "6904d3e4",
   "metadata": {
    "papermill": {
     "duration": 0.015102,
     "end_time": "2025-09-02T05:00:10.876396",
     "exception": false,
     "start_time": "2025-09-02T05:00:10.861294",
     "status": "completed"
    },
    "tags": []
   },
   "source": [
    "<h2 id=\"webframe\">Web Frameworks</h2>\n",
    "\n",
    "Let's find the top 10 most popular web frameworks respondents worked with (`WebframeHaveWorkedWith`) and want to work with (`WebframeWantToWorkWith`)."
   ]
  },
  {
   "cell_type": "markdown",
   "id": "91e6ef9b",
   "metadata": {
    "papermill": {
     "duration": 0.015242,
     "end_time": "2025-09-02T05:00:10.906374",
     "exception": false,
     "start_time": "2025-09-02T05:00:10.891132",
     "status": "completed"
    },
    "tags": []
   },
   "source": [
    "### Worked With"
   ]
  },
  {
   "cell_type": "code",
   "execution_count": 22,
   "id": "c7b48f01",
   "metadata": {
    "execution": {
     "iopub.execute_input": "2025-09-02T05:00:10.937399Z",
     "iopub.status.busy": "2025-09-02T05:00:10.937035Z",
     "iopub.status.idle": "2025-09-02T05:00:11.703503Z",
     "shell.execute_reply": "2025-09-02T05:00:11.702382Z"
    },
    "papermill": {
     "duration": 0.784422,
     "end_time": "2025-09-02T05:00:11.705219",
     "exception": false,
     "start_time": "2025-09-02T05:00:10.920797",
     "status": "completed"
    },
    "tags": []
   },
   "outputs": [
    {
     "data": {
      "text/html": [
       "<div>\n",
       "<style scoped>\n",
       "    .dataframe tbody tr th:only-of-type {\n",
       "        vertical-align: middle;\n",
       "    }\n",
       "\n",
       "    .dataframe tbody tr th {\n",
       "        vertical-align: top;\n",
       "    }\n",
       "\n",
       "    .dataframe thead th {\n",
       "        text-align: right;\n",
       "    }\n",
       "</style>\n",
       "<table border=\"1\" class=\"dataframe\">\n",
       "  <thead>\n",
       "    <tr style=\"text-align: right;\">\n",
       "      <th></th>\n",
       "      <th>WebframeHaveWorkedWith</th>\n",
       "      <th>count</th>\n",
       "    </tr>\n",
       "  </thead>\n",
       "  <tbody>\n",
       "    <tr>\n",
       "      <th>0</th>\n",
       "      <td>Node.js</td>\n",
       "      <td>19744</td>\n",
       "    </tr>\n",
       "    <tr>\n",
       "      <th>1</th>\n",
       "      <td>React</td>\n",
       "      <td>19146</td>\n",
       "    </tr>\n",
       "    <tr>\n",
       "      <th>2</th>\n",
       "      <td>jQuery</td>\n",
       "      <td>10375</td>\n",
       "    </tr>\n",
       "    <tr>\n",
       "      <th>3</th>\n",
       "      <td>Next.js</td>\n",
       "      <td>8671</td>\n",
       "    </tr>\n",
       "    <tr>\n",
       "      <th>4</th>\n",
       "      <td>Express</td>\n",
       "      <td>8608</td>\n",
       "    </tr>\n",
       "    <tr>\n",
       "      <th>5</th>\n",
       "      <td>Angular</td>\n",
       "      <td>8286</td>\n",
       "    </tr>\n",
       "    <tr>\n",
       "      <th>6</th>\n",
       "      <td>ASP.NET CORE</td>\n",
       "      <td>8178</td>\n",
       "    </tr>\n",
       "    <tr>\n",
       "      <th>7</th>\n",
       "      <td>Vue.js</td>\n",
       "      <td>7470</td>\n",
       "    </tr>\n",
       "    <tr>\n",
       "      <th>8</th>\n",
       "      <td>ASP.NET</td>\n",
       "      <td>6255</td>\n",
       "    </tr>\n",
       "    <tr>\n",
       "      <th>9</th>\n",
       "      <td>Flask</td>\n",
       "      <td>6238</td>\n",
       "    </tr>\n",
       "  </tbody>\n",
       "</table>\n",
       "</div>"
      ],
      "text/plain": [
       "  WebframeHaveWorkedWith  count\n",
       "0                Node.js  19744\n",
       "1                  React  19146\n",
       "2                 jQuery  10375\n",
       "3                Next.js   8671\n",
       "4                Express   8608\n",
       "5                Angular   8286\n",
       "6           ASP.NET CORE   8178\n",
       "7                 Vue.js   7470\n",
       "8                ASP.NET   6255\n",
       "9                  Flask   6238"
      ]
     },
     "execution_count": 22,
     "metadata": {},
     "output_type": "execute_result"
    }
   ],
   "source": [
    "# Select the web frameworks worked with and store to a df\n",
    "df_web_worked = pd.read_sql(\"SELECT WebframeHaveWorkedWith FROM main\", conn)\n",
    "\n",
    "# Split the values\n",
    "df_web_worked['WebframeHaveWorkedWith'] = df_web_worked['WebframeHaveWorkedWith'].str.split(\";\")\n",
    "\n",
    "# Explode the df\n",
    "df_web_worked = df_web_worked.explode('WebframeHaveWorkedWith')\n",
    "\n",
    "# Find the top 10\n",
    "top10_web_worked = df_web_worked.value_counts().sort_values(ascending=False).head(10).reset_index()\n",
    "top10_web_worked "
   ]
  },
  {
   "cell_type": "markdown",
   "id": "9aea2d76",
   "metadata": {
    "papermill": {
     "duration": 0.01507,
     "end_time": "2025-09-02T05:00:11.737933",
     "exception": false,
     "start_time": "2025-09-02T05:00:11.722863",
     "status": "completed"
    },
    "tags": []
   },
   "source": [
    "### Want to Work With"
   ]
  },
  {
   "cell_type": "code",
   "execution_count": 23,
   "id": "fb0ebaf1",
   "metadata": {
    "execution": {
     "iopub.execute_input": "2025-09-02T05:00:11.770260Z",
     "iopub.status.busy": "2025-09-02T05:00:11.769935Z",
     "iopub.status.idle": "2025-09-02T05:00:12.377740Z",
     "shell.execute_reply": "2025-09-02T05:00:12.376175Z"
    },
    "papermill": {
     "duration": 0.626571,
     "end_time": "2025-09-02T05:00:12.379798",
     "exception": false,
     "start_time": "2025-09-02T05:00:11.753227",
     "status": "completed"
    },
    "tags": []
   },
   "outputs": [
    {
     "data": {
      "text/html": [
       "<div>\n",
       "<style scoped>\n",
       "    .dataframe tbody tr th:only-of-type {\n",
       "        vertical-align: middle;\n",
       "    }\n",
       "\n",
       "    .dataframe tbody tr th {\n",
       "        vertical-align: top;\n",
       "    }\n",
       "\n",
       "    .dataframe thead th {\n",
       "        text-align: right;\n",
       "    }\n",
       "</style>\n",
       "<table border=\"1\" class=\"dataframe\">\n",
       "  <thead>\n",
       "    <tr style=\"text-align: right;\">\n",
       "      <th></th>\n",
       "      <th>WebframeWantToWorkWith</th>\n",
       "      <th>count</th>\n",
       "    </tr>\n",
       "  </thead>\n",
       "  <tbody>\n",
       "    <tr>\n",
       "      <th>0</th>\n",
       "      <td>React</td>\n",
       "      <td>15383</td>\n",
       "    </tr>\n",
       "    <tr>\n",
       "      <th>1</th>\n",
       "      <td>Node.js</td>\n",
       "      <td>14718</td>\n",
       "    </tr>\n",
       "    <tr>\n",
       "      <th>2</th>\n",
       "      <td>Next.js</td>\n",
       "      <td>8496</td>\n",
       "    </tr>\n",
       "    <tr>\n",
       "      <th>3</th>\n",
       "      <td>Vue.js</td>\n",
       "      <td>7593</td>\n",
       "    </tr>\n",
       "    <tr>\n",
       "      <th>4</th>\n",
       "      <td>ASP.NET CORE</td>\n",
       "      <td>6896</td>\n",
       "    </tr>\n",
       "    <tr>\n",
       "      <th>5</th>\n",
       "      <td>Angular</td>\n",
       "      <td>6345</td>\n",
       "    </tr>\n",
       "    <tr>\n",
       "      <th>6</th>\n",
       "      <td>Express</td>\n",
       "      <td>5613</td>\n",
       "    </tr>\n",
       "    <tr>\n",
       "      <th>7</th>\n",
       "      <td>Svelte</td>\n",
       "      <td>5370</td>\n",
       "    </tr>\n",
       "    <tr>\n",
       "      <th>8</th>\n",
       "      <td>Spring Boot</td>\n",
       "      <td>5060</td>\n",
       "    </tr>\n",
       "    <tr>\n",
       "      <th>9</th>\n",
       "      <td>Django</td>\n",
       "      <td>4965</td>\n",
       "    </tr>\n",
       "  </tbody>\n",
       "</table>\n",
       "</div>"
      ],
      "text/plain": [
       "  WebframeWantToWorkWith  count\n",
       "0                  React  15383\n",
       "1                Node.js  14718\n",
       "2                Next.js   8496\n",
       "3                 Vue.js   7593\n",
       "4           ASP.NET CORE   6896\n",
       "5                Angular   6345\n",
       "6                Express   5613\n",
       "7                 Svelte   5370\n",
       "8            Spring Boot   5060\n",
       "9                 Django   4965"
      ]
     },
     "execution_count": 23,
     "metadata": {},
     "output_type": "execute_result"
    }
   ],
   "source": [
    "# Select the web frameworks wanted and store to a df\n",
    "df_web_want = pd.read_sql(\"SELECT WebframeWantToWorkWith FROM main\", conn)\n",
    "\n",
    "# Split the values\n",
    "df_web_want['WebframeWantToWorkWith'] = df_web_want['WebframeWantToWorkWith'].str.split(\";\")\n",
    "\n",
    "# Explode the df\n",
    "df_web_want = df_web_want.explode('WebframeWantToWorkWith')\n",
    "\n",
    "# Find the top 10\n",
    "top10_web_want = df_web_want.value_counts().sort_values(ascending=False).head(10).reset_index()\n",
    "top10_web_want "
   ]
  },
  {
   "cell_type": "markdown",
   "id": "d41005e3",
   "metadata": {
    "papermill": {
     "duration": 0.014442,
     "end_time": "2025-09-02T05:00:12.409220",
     "exception": false,
     "start_time": "2025-09-02T05:00:12.394778",
     "status": "completed"
    },
    "tags": []
   },
   "source": [
    "### Visualizing"
   ]
  },
  {
   "cell_type": "code",
   "execution_count": 24,
   "id": "5e6da86b",
   "metadata": {
    "execution": {
     "iopub.execute_input": "2025-09-02T05:00:12.440796Z",
     "iopub.status.busy": "2025-09-02T05:00:12.440311Z",
     "iopub.status.idle": "2025-09-02T05:00:13.534584Z",
     "shell.execute_reply": "2025-09-02T05:00:13.533693Z"
    },
    "papermill": {
     "duration": 1.111353,
     "end_time": "2025-09-02T05:00:13.536113",
     "exception": false,
     "start_time": "2025-09-02T05:00:12.424760",
     "status": "completed"
    },
    "tags": []
   },
   "outputs": [
    {
     "data": {
      "image/png": "[encoded data removed]",
      "text/plain": [
       "<Figure size 1000x1000 with 2 Axes>"
      ]
     },
     "metadata": {},
     "output_type": "display_data"
    }
   ],
   "source": [
    "fig, axes = plt.subplots(2,1, figsize=(10,10))\n",
    "fig.suptitle(\"Top 10 Web Frameworks: Worked With & Wanted\", fontsize=20)\n",
    "\n",
    "# Bar graph #1 - Top 10 Web Frameworks Worked With\n",
    "sns.barplot(top10_web_worked, x='count', y='WebframeHaveWorkedWith', hue='WebframeHaveWorkedWith', edgecolor = 'black', ax=axes[0], dodge = False)\n",
    "axes[0].set_title(\"Web Frameworks Used\")\n",
    "axes[0].set_ylabel(\"Web Frameworks\")\n",
    "axes[0].set_xlabel(\"Count\")\n",
    "axes[0].get_legend().remove()\n",
    "\n",
    "# Bar graph #2 - Top 10 Web Frameworks Wanted\n",
    "sns.barplot(top10_web_want, x='count', y='WebframeWantToWorkWith', hue='WebframeWantToWorkWith', edgecolor = 'black', ax=axes[1], dodge = False)\n",
    "axes[1].set_title(\"Web Frameworks Wanted\")\n",
    "axes[1].set_ylabel(\"Web Frameworks\")\n",
    "axes[1].set_xlabel(\"Count\")\n",
    "axes[1].get_legend().remove()\n",
    "\n",
    "plt.tight_layout()\n",
    "plt.show()"
   ]
  },
  {
   "cell_type": "markdown",
   "id": "ea33aa70",
   "metadata": {
    "papermill": {
     "duration": 0.017061,
     "end_time": "2025-09-02T05:00:13.570345",
     "exception": false,
     "start_time": "2025-09-02T05:00:13.553284",
     "status": "completed"
    },
    "tags": []
   },
   "source": [
    "So far, it seems like the web frameworks has the most variation between the two plots. The frameworks `jQuery`, `ASP.NET`, and `Django` are only present in the 'worked with' plot on the top. `Svelte`, `Spring Boot`, and `Django` are the frameworks that are unique on the 'wanted' plot on the bottom."
   ]
  },
  {
   "cell_type": "markdown",
   "id": "5af479af",
   "metadata": {
    "papermill": {
     "duration": 0.01644,
     "end_time": "2025-09-02T05:00:13.603123",
     "exception": false,
     "start_time": "2025-09-02T05:00:13.586683",
     "status": "completed"
    },
    "tags": []
   },
   "source": [
    "<h2 id = \"tools\">Tools Tech</h2>\n",
    "\n",
    "Let's find the top 10 most popular web frameworks respondents worked with (`ToolsTechHaveWorkedWith`) and want to work with (`ToolsTechWantToWorkWith`)."
   ]
  },
  {
   "cell_type": "markdown",
   "id": "1c5cadf6",
   "metadata": {
    "papermill": {
     "duration": 0.016463,
     "end_time": "2025-09-02T05:00:13.635814",
     "exception": false,
     "start_time": "2025-09-02T05:00:13.619351",
     "status": "completed"
    },
    "tags": []
   },
   "source": [
    "### Worked With"
   ]
  },
  {
   "cell_type": "code",
   "execution_count": 25,
   "id": "77091e63",
   "metadata": {
    "execution": {
     "iopub.execute_input": "2025-09-02T05:00:13.670526Z",
     "iopub.status.busy": "2025-09-02T05:00:13.670043Z",
     "iopub.status.idle": "2025-09-02T05:00:14.463838Z",
     "shell.execute_reply": "2025-09-02T05:00:14.462912Z"
    },
    "papermill": {
     "duration": 0.814033,
     "end_time": "2025-09-02T05:00:14.466200",
     "exception": false,
     "start_time": "2025-09-02T05:00:13.652167",
     "status": "completed"
    },
    "tags": []
   },
   "outputs": [
    {
     "data": {
      "text/html": [
       "<div>\n",
       "<style scoped>\n",
       "    .dataframe tbody tr th:only-of-type {\n",
       "        vertical-align: middle;\n",
       "    }\n",
       "\n",
       "    .dataframe tbody tr th {\n",
       "        vertical-align: top;\n",
       "    }\n",
       "\n",
       "    .dataframe thead th {\n",
       "        text-align: right;\n",
       "    }\n",
       "</style>\n",
       "<table border=\"1\" class=\"dataframe\">\n",
       "  <thead>\n",
       "    <tr style=\"text-align: right;\">\n",
       "      <th></th>\n",
       "      <th>ToolsTechHaveWorkedWith</th>\n",
       "      <th>count</th>\n",
       "    </tr>\n",
       "  </thead>\n",
       "  <tbody>\n",
       "    <tr>\n",
       "      <th>0</th>\n",
       "      <td>Docker</td>\n",
       "      <td>29184</td>\n",
       "    </tr>\n",
       "    <tr>\n",
       "      <th>1</th>\n",
       "      <td>npm</td>\n",
       "      <td>26843</td>\n",
       "    </tr>\n",
       "    <tr>\n",
       "      <th>2</th>\n",
       "      <td>Pip</td>\n",
       "      <td>17541</td>\n",
       "    </tr>\n",
       "    <tr>\n",
       "      <th>3</th>\n",
       "      <td>Homebrew</td>\n",
       "      <td>12066</td>\n",
       "    </tr>\n",
       "    <tr>\n",
       "      <th>4</th>\n",
       "      <td>Make</td>\n",
       "      <td>11246</td>\n",
       "    </tr>\n",
       "    <tr>\n",
       "      <th>5</th>\n",
       "      <td>Vite</td>\n",
       "      <td>10797</td>\n",
       "    </tr>\n",
       "    <tr>\n",
       "      <th>6</th>\n",
       "      <td>Kubernetes</td>\n",
       "      <td>10484</td>\n",
       "    </tr>\n",
       "    <tr>\n",
       "      <th>7</th>\n",
       "      <td>Yarn</td>\n",
       "      <td>10198</td>\n",
       "    </tr>\n",
       "    <tr>\n",
       "      <th>8</th>\n",
       "      <td>Webpack</td>\n",
       "      <td>9961</td>\n",
       "    </tr>\n",
       "    <tr>\n",
       "      <th>9</th>\n",
       "      <td>NuGet</td>\n",
       "      <td>8693</td>\n",
       "    </tr>\n",
       "  </tbody>\n",
       "</table>\n",
       "</div>"
      ],
      "text/plain": [
       "  ToolsTechHaveWorkedWith  count\n",
       "0                  Docker  29184\n",
       "1                     npm  26843\n",
       "2                     Pip  17541\n",
       "3                Homebrew  12066\n",
       "4                    Make  11246\n",
       "5                    Vite  10797\n",
       "6              Kubernetes  10484\n",
       "7                    Yarn  10198\n",
       "8                 Webpack   9961\n",
       "9                   NuGet   8693"
      ]
     },
     "execution_count": 25,
     "metadata": {},
     "output_type": "execute_result"
    }
   ],
   "source": [
    "# Select the tools tech worked with and store to a df\n",
    "df_tools_worked = pd.read_sql(\"SELECT ToolsTechHaveWorkedWith FROM main\", conn)\n",
    "\n",
    "# Split the values\n",
    "df_tools_worked['ToolsTechHaveWorkedWith'] = df_tools_worked['ToolsTechHaveWorkedWith'].str.split(\";\")\n",
    "\n",
    "# Explode the df\n",
    "df_tools_worked = df_tools_worked.explode('ToolsTechHaveWorkedWith')\n",
    "\n",
    "# Find the top 10\n",
    "top10_tools_worked = df_tools_worked.value_counts().sort_values(ascending=False).head(10).reset_index()\n",
    "top10_tools_worked "
   ]
  },
  {
   "cell_type": "markdown",
   "id": "f3e22795",
   "metadata": {
    "papermill": {
     "duration": 0.016632,
     "end_time": "2025-09-02T05:00:14.499762",
     "exception": false,
     "start_time": "2025-09-02T05:00:14.483130",
     "status": "completed"
    },
    "tags": []
   },
   "source": [
    "### Want to Work With"
   ]
  },
  {
   "cell_type": "code",
   "execution_count": 26,
   "id": "6a1de520",
   "metadata": {
    "execution": {
     "iopub.execute_input": "2025-09-02T05:00:14.538334Z",
     "iopub.status.busy": "2025-09-02T05:00:14.537460Z",
     "iopub.status.idle": "2025-09-02T05:00:15.152737Z",
     "shell.execute_reply": "2025-09-02T05:00:15.151711Z"
    },
    "papermill": {
     "duration": 0.636759,
     "end_time": "2025-09-02T05:00:15.154709",
     "exception": false,
     "start_time": "2025-09-02T05:00:14.517950",
     "status": "completed"
    },
    "tags": []
   },
   "outputs": [
    {
     "data": {
      "text/html": [
       "<div>\n",
       "<style scoped>\n",
       "    .dataframe tbody tr th:only-of-type {\n",
       "        vertical-align: middle;\n",
       "    }\n",
       "\n",
       "    .dataframe tbody tr th {\n",
       "        vertical-align: top;\n",
       "    }\n",
       "\n",
       "    .dataframe thead th {\n",
       "        text-align: right;\n",
       "    }\n",
       "</style>\n",
       "<table border=\"1\" class=\"dataframe\">\n",
       "  <thead>\n",
       "    <tr style=\"text-align: right;\">\n",
       "      <th></th>\n",
       "      <th>ToolsTechWantToWorkWith</th>\n",
       "      <th>count</th>\n",
       "    </tr>\n",
       "  </thead>\n",
       "  <tbody>\n",
       "    <tr>\n",
       "      <th>0</th>\n",
       "      <td>Docker</td>\n",
       "      <td>26224</td>\n",
       "    </tr>\n",
       "    <tr>\n",
       "      <th>1</th>\n",
       "      <td>npm</td>\n",
       "      <td>16697</td>\n",
       "    </tr>\n",
       "    <tr>\n",
       "      <th>2</th>\n",
       "      <td>Kubernetes</td>\n",
       "      <td>13176</td>\n",
       "    </tr>\n",
       "    <tr>\n",
       "      <th>3</th>\n",
       "      <td>Pip</td>\n",
       "      <td>11384</td>\n",
       "    </tr>\n",
       "    <tr>\n",
       "      <th>4</th>\n",
       "      <td>Vite</td>\n",
       "      <td>9975</td>\n",
       "    </tr>\n",
       "    <tr>\n",
       "      <th>5</th>\n",
       "      <td>Homebrew</td>\n",
       "      <td>8784</td>\n",
       "    </tr>\n",
       "    <tr>\n",
       "      <th>6</th>\n",
       "      <td>Make</td>\n",
       "      <td>7367</td>\n",
       "    </tr>\n",
       "    <tr>\n",
       "      <th>7</th>\n",
       "      <td>Terraform</td>\n",
       "      <td>6183</td>\n",
       "    </tr>\n",
       "    <tr>\n",
       "      <th>8</th>\n",
       "      <td>NuGet</td>\n",
       "      <td>6172</td>\n",
       "    </tr>\n",
       "    <tr>\n",
       "      <th>9</th>\n",
       "      <td>Visual Studio Solution</td>\n",
       "      <td>6052</td>\n",
       "    </tr>\n",
       "  </tbody>\n",
       "</table>\n",
       "</div>"
      ],
      "text/plain": [
       "  ToolsTechWantToWorkWith  count\n",
       "0                  Docker  26224\n",
       "1                     npm  16697\n",
       "2              Kubernetes  13176\n",
       "3                     Pip  11384\n",
       "4                    Vite   9975\n",
       "5                Homebrew   8784\n",
       "6                    Make   7367\n",
       "7               Terraform   6183\n",
       "8                   NuGet   6172\n",
       "9  Visual Studio Solution   6052"
      ]
     },
     "execution_count": 26,
     "metadata": {},
     "output_type": "execute_result"
    }
   ],
   "source": [
    "# Select the tools tech wanted and store to a df\n",
    "df_tools_want = pd.read_sql(\"SELECT ToolsTechWantToWorkWith FROM main\", conn)\n",
    "\n",
    "# Split the values\n",
    "df_tools_want['ToolsTechWantToWorkWith'] = df_tools_want['ToolsTechWantToWorkWith'].str.split(\";\")\n",
    "\n",
    "# Explode the df\n",
    "df_tools_want = df_tools_want.explode('ToolsTechWantToWorkWith')\n",
    "\n",
    "# Find the top 10\n",
    "top10_tools_want = df_tools_want.value_counts().sort_values(ascending=False).head(10).reset_index()\n",
    "top10_tools_want "
   ]
  },
  {
   "cell_type": "markdown",
   "id": "4c592cf3",
   "metadata": {
    "papermill": {
     "duration": 0.016648,
     "end_time": "2025-09-02T05:00:15.191725",
     "exception": false,
     "start_time": "2025-09-02T05:00:15.175077",
     "status": "completed"
    },
    "tags": []
   },
   "source": [
    "### Visualizing"
   ]
  },
  {
   "cell_type": "code",
   "execution_count": 27,
   "id": "59f978b8",
   "metadata": {
    "execution": {
     "iopub.execute_input": "2025-09-02T05:00:15.232438Z",
     "iopub.status.busy": "2025-09-02T05:00:15.232085Z",
     "iopub.status.idle": "2025-09-02T05:00:16.168879Z",
     "shell.execute_reply": "2025-09-02T05:00:16.167827Z"
    },
    "papermill": {
     "duration": 0.957753,
     "end_time": "2025-09-02T05:00:16.171028",
     "exception": false,
     "start_time": "2025-09-02T05:00:15.213275",
     "status": "completed"
    },
    "tags": []
   },
   "outputs": [
    {
     "data": {
      "image/png": "[encoded data removed]",
      "text/plain": [
       "<Figure size 1000x1000 with 2 Axes>"
      ]
     },
     "metadata": {},
     "output_type": "display_data"
    }
   ],
   "source": [
    "fig, axes = plt.subplots(2,1, figsize=(10,10))\n",
    "fig.suptitle(\"Top 10 Tools Tech: Worked With & Wanted\", fontsize=20)\n",
    "\n",
    "# Bar graph #1 - Top 10 Tools Tech Worked With\n",
    "sns.barplot(top10_tools_worked, x='count', y='ToolsTechHaveWorkedWith', hue='ToolsTechHaveWorkedWith', edgecolor = 'black', ax=axes[0], dodge = False)\n",
    "axes[0].set_title(\"Tools Tech Used\")\n",
    "axes[0].set_ylabel(\"Tools Tech\")\n",
    "axes[0].set_xlabel(\"Count\")\n",
    "axes[0].get_legend().remove()\n",
    "\n",
    "# Bar graph #2 - Top 10 Tools Tech Wanted\n",
    "sns.barplot(top10_tools_want, x='count', y='ToolsTechWantToWorkWith', hue='ToolsTechWantToWorkWith', edgecolor = 'black', ax=axes[1], dodge = False)\n",
    "axes[1].set_title(\"Tools Tech Wanted\")\n",
    "axes[1].set_ylabel(\"Tools Tech\")\n",
    "axes[1].set_xlabel(\"Count\")\n",
    "axes[1].get_legend().remove()\n",
    "\n",
    "plt.tight_layout()\n",
    "plt.show()"
   ]
  },
  {
   "cell_type": "markdown",
   "id": "9a667491",
   "metadata": {
    "papermill": {
     "duration": 0.017341,
     "end_time": "2025-09-02T05:00:16.206290",
     "exception": false,
     "start_time": "2025-09-02T05:00:16.188949",
     "status": "completed"
    },
    "tags": []
   },
   "source": [
    "For tool techs, there are 2 out of 10 unique entries for each respective plot. `Yarn` and `Webpack` are unique tools in the 'worked with' plot. `Terraform` and `Visual Studio Solution` are unique tools in the 'wanted' plot."
   ]
  },
  {
   "cell_type": "markdown",
   "id": "799a361a",
   "metadata": {
    "papermill": {
     "duration": 0.017346,
     "end_time": "2025-09-02T05:00:16.241100",
     "exception": false,
     "start_time": "2025-09-02T05:00:16.223754",
     "status": "completed"
    },
    "tags": []
   },
   "source": [
    "<h2 id=\"collab\">Collaboration Tools</h2>\n",
    "\n",
    "Let's find the top 10 most popular web frameworks respondents worked with (`NEWCollabToolsHaveWorkedWith`) and want to work with (`NEWCollabToolsWantToWorkWith`)."
   ]
  },
  {
   "cell_type": "markdown",
   "id": "c2ab02f5",
   "metadata": {
    "papermill": {
     "duration": 0.017747,
     "end_time": "2025-09-02T05:00:16.276304",
     "exception": false,
     "start_time": "2025-09-02T05:00:16.258557",
     "status": "completed"
    },
    "tags": []
   },
   "source": [
    "### Worked With"
   ]
  },
  {
   "cell_type": "code",
   "execution_count": 28,
   "id": "6d021e84",
   "metadata": {
    "execution": {
     "iopub.execute_input": "2025-09-02T05:00:16.315250Z",
     "iopub.status.busy": "2025-09-02T05:00:16.314934Z",
     "iopub.status.idle": "2025-09-02T05:00:17.129901Z",
     "shell.execute_reply": "2025-09-02T05:00:17.128769Z"
    },
    "papermill": {
     "duration": 0.837994,
     "end_time": "2025-09-02T05:00:17.131947",
     "exception": false,
     "start_time": "2025-09-02T05:00:16.293953",
     "status": "completed"
    },
    "tags": []
   },
   "outputs": [
    {
     "data": {
      "text/html": [
       "<div>\n",
       "<style scoped>\n",
       "    .dataframe tbody tr th:only-of-type {\n",
       "        vertical-align: middle;\n",
       "    }\n",
       "\n",
       "    .dataframe tbody tr th {\n",
       "        vertical-align: top;\n",
       "    }\n",
       "\n",
       "    .dataframe thead th {\n",
       "        text-align: right;\n",
       "    }\n",
       "</style>\n",
       "<table border=\"1\" class=\"dataframe\">\n",
       "  <thead>\n",
       "    <tr style=\"text-align: right;\">\n",
       "      <th></th>\n",
       "      <th>NEWCollabToolsHaveWorkedWith</th>\n",
       "      <th>count</th>\n",
       "    </tr>\n",
       "  </thead>\n",
       "  <tbody>\n",
       "    <tr>\n",
       "      <th>0</th>\n",
       "      <td>Visual Studio Code</td>\n",
       "      <td>42632</td>\n",
       "    </tr>\n",
       "    <tr>\n",
       "      <th>1</th>\n",
       "      <td>Visual Studio</td>\n",
       "      <td>16972</td>\n",
       "    </tr>\n",
       "    <tr>\n",
       "      <th>2</th>\n",
       "      <td>IntelliJ IDEA</td>\n",
       "      <td>15521</td>\n",
       "    </tr>\n",
       "    <tr>\n",
       "      <th>3</th>\n",
       "      <td>Notepad++</td>\n",
       "      <td>13832</td>\n",
       "    </tr>\n",
       "    <tr>\n",
       "      <th>4</th>\n",
       "      <td>Vim</td>\n",
       "      <td>12493</td>\n",
       "    </tr>\n",
       "    <tr>\n",
       "      <th>5</th>\n",
       "      <td>Android Studio</td>\n",
       "      <td>9345</td>\n",
       "    </tr>\n",
       "    <tr>\n",
       "      <th>6</th>\n",
       "      <td>PyCharm</td>\n",
       "      <td>8760</td>\n",
       "    </tr>\n",
       "    <tr>\n",
       "      <th>7</th>\n",
       "      <td>Jupyter Notebook/JupyterLab</td>\n",
       "      <td>7422</td>\n",
       "    </tr>\n",
       "    <tr>\n",
       "      <th>8</th>\n",
       "      <td>Neovim</td>\n",
       "      <td>7220</td>\n",
       "    </tr>\n",
       "    <tr>\n",
       "      <th>9</th>\n",
       "      <td>Sublime Text</td>\n",
       "      <td>6315</td>\n",
       "    </tr>\n",
       "  </tbody>\n",
       "</table>\n",
       "</div>"
      ],
      "text/plain": [
       "  NEWCollabToolsHaveWorkedWith  count\n",
       "0           Visual Studio Code  42632\n",
       "1                Visual Studio  16972\n",
       "2                IntelliJ IDEA  15521\n",
       "3                    Notepad++  13832\n",
       "4                          Vim  12493\n",
       "5               Android Studio   9345\n",
       "6                      PyCharm   8760\n",
       "7  Jupyter Notebook/JupyterLab   7422\n",
       "8                       Neovim   7220\n",
       "9                 Sublime Text   6315"
      ]
     },
     "execution_count": 28,
     "metadata": {},
     "output_type": "execute_result"
    }
   ],
   "source": [
    "# Select the Collab tools worked with and store to a df\n",
    "df_collab_worked = pd.read_sql(\"SELECT NEWCollabToolsHaveWorkedWith FROM main\", conn)\n",
    "\n",
    "# Split the values\n",
    "df_collab_worked['NEWCollabToolsHaveWorkedWith'] = df_collab_worked['NEWCollabToolsHaveWorkedWith'].str.split(\";\")\n",
    "\n",
    "# Explode the df\n",
    "df_collab_worked = df_collab_worked.explode('NEWCollabToolsHaveWorkedWith')\n",
    "\n",
    "# Find the top 10\n",
    "top10_collab_worked = df_collab_worked.value_counts().sort_values(ascending=False).head(10).reset_index()\n",
    "top10_collab_worked "
   ]
  },
  {
   "cell_type": "markdown",
   "id": "d10b9dea",
   "metadata": {
    "papermill": {
     "duration": 0.017969,
     "end_time": "2025-09-02T05:00:17.168133",
     "exception": false,
     "start_time": "2025-09-02T05:00:17.150164",
     "status": "completed"
    },
    "tags": []
   },
   "source": [
    "### Want to Work With"
   ]
  },
  {
   "cell_type": "code",
   "execution_count": 29,
   "id": "086b82ba",
   "metadata": {
    "execution": {
     "iopub.execute_input": "2025-09-02T05:00:17.206666Z",
     "iopub.status.busy": "2025-09-02T05:00:17.206278Z",
     "iopub.status.idle": "2025-09-02T05:00:17.968751Z",
     "shell.execute_reply": "2025-09-02T05:00:17.967762Z"
    },
    "papermill": {
     "duration": 0.784355,
     "end_time": "2025-09-02T05:00:17.970574",
     "exception": false,
     "start_time": "2025-09-02T05:00:17.186219",
     "status": "completed"
    },
    "tags": []
   },
   "outputs": [
    {
     "data": {
      "text/html": [
       "<div>\n",
       "<style scoped>\n",
       "    .dataframe tbody tr th:only-of-type {\n",
       "        vertical-align: middle;\n",
       "    }\n",
       "\n",
       "    .dataframe tbody tr th {\n",
       "        vertical-align: top;\n",
       "    }\n",
       "\n",
       "    .dataframe thead th {\n",
       "        text-align: right;\n",
       "    }\n",
       "</style>\n",
       "<table border=\"1\" class=\"dataframe\">\n",
       "  <thead>\n",
       "    <tr style=\"text-align: right;\">\n",
       "      <th></th>\n",
       "      <th>NEWCollabToolsWantToWorkWith</th>\n",
       "      <th>count</th>\n",
       "    </tr>\n",
       "  </thead>\n",
       "  <tbody>\n",
       "    <tr>\n",
       "      <th>0</th>\n",
       "      <td>Visual Studio Code</td>\n",
       "      <td>33866</td>\n",
       "    </tr>\n",
       "    <tr>\n",
       "      <th>1</th>\n",
       "      <td>IntelliJ IDEA</td>\n",
       "      <td>11698</td>\n",
       "    </tr>\n",
       "    <tr>\n",
       "      <th>2</th>\n",
       "      <td>Visual Studio</td>\n",
       "      <td>11054</td>\n",
       "    </tr>\n",
       "    <tr>\n",
       "      <th>3</th>\n",
       "      <td>Vim</td>\n",
       "      <td>9605</td>\n",
       "    </tr>\n",
       "    <tr>\n",
       "      <th>4</th>\n",
       "      <td>Notepad++</td>\n",
       "      <td>8854</td>\n",
       "    </tr>\n",
       "    <tr>\n",
       "      <th>5</th>\n",
       "      <td>Neovim</td>\n",
       "      <td>7999</td>\n",
       "    </tr>\n",
       "    <tr>\n",
       "      <th>6</th>\n",
       "      <td>PyCharm</td>\n",
       "      <td>6480</td>\n",
       "    </tr>\n",
       "    <tr>\n",
       "      <th>7</th>\n",
       "      <td>Android Studio</td>\n",
       "      <td>6099</td>\n",
       "    </tr>\n",
       "    <tr>\n",
       "      <th>8</th>\n",
       "      <td>Jupyter Notebook/JupyterLab</td>\n",
       "      <td>5593</td>\n",
       "    </tr>\n",
       "    <tr>\n",
       "      <th>9</th>\n",
       "      <td>Xcode</td>\n",
       "      <td>3896</td>\n",
       "    </tr>\n",
       "  </tbody>\n",
       "</table>\n",
       "</div>"
      ],
      "text/plain": [
       "  NEWCollabToolsWantToWorkWith  count\n",
       "0           Visual Studio Code  33866\n",
       "1                IntelliJ IDEA  11698\n",
       "2                Visual Studio  11054\n",
       "3                          Vim   9605\n",
       "4                    Notepad++   8854\n",
       "5                       Neovim   7999\n",
       "6                      PyCharm   6480\n",
       "7               Android Studio   6099\n",
       "8  Jupyter Notebook/JupyterLab   5593\n",
       "9                        Xcode   3896"
      ]
     },
     "execution_count": 29,
     "metadata": {},
     "output_type": "execute_result"
    }
   ],
   "source": [
    "# Select the Collab tools wanted and store to a df\n",
    "df_collab_want = pd.read_sql(\"SELECT NEWCollabToolsWantToWorkWith FROM main\", conn)\n",
    "\n",
    "# Split the values\n",
    "df_collab_want['NEWCollabToolsWantToWorkWith'] = df_collab_want['NEWCollabToolsWantToWorkWith'].str.split(\";\")\n",
    "\n",
    "# Explode the df\n",
    "df_collab_want = df_collab_want.explode('NEWCollabToolsWantToWorkWith')\n",
    "\n",
    "# Find the top 10\n",
    "top10_collab_want = df_collab_want.value_counts().sort_values(ascending=False).head(10).reset_index()\n",
    "top10_collab_want "
   ]
  },
  {
   "cell_type": "markdown",
   "id": "46c93b14",
   "metadata": {
    "papermill": {
     "duration": 0.017778,
     "end_time": "2025-09-02T05:00:18.006717",
     "exception": false,
     "start_time": "2025-09-02T05:00:17.988939",
     "status": "completed"
    },
    "tags": []
   },
   "source": [
    "### Visualizing"
   ]
  },
  {
   "cell_type": "code",
   "execution_count": 30,
   "id": "e7ac247a",
   "metadata": {
    "execution": {
     "iopub.execute_input": "2025-09-02T05:00:18.044724Z",
     "iopub.status.busy": "2025-09-02T05:00:18.043486Z",
     "iopub.status.idle": "2025-09-02T05:00:18.980378Z",
     "shell.execute_reply": "2025-09-02T05:00:18.979338Z"
    },
    "papermill": {
     "duration": 0.958855,
     "end_time": "2025-09-02T05:00:18.983271",
     "exception": false,
     "start_time": "2025-09-02T05:00:18.024416",
     "status": "completed"
    },
    "tags": []
   },
   "outputs": [
    {
     "data": {
      "image/png": "[encoded data removed]",
      "text/plain": [
       "<Figure size 1000x1000 with 2 Axes>"
      ]
     },
     "metadata": {},
     "output_type": "display_data"
    }
   ],
   "source": [
    "fig, axes = plt.subplots(2,1, figsize=(10,10))\n",
    "fig.suptitle(\"Top 10 Collaboration Tools: Worked With & Wanted\", fontsize=20)\n",
    "\n",
    "# Bar graph #1 - Top 10 Collaboration Tools Worked With\n",
    "sns.barplot(top10_collab_worked, x='count', y='NEWCollabToolsHaveWorkedWith', hue='NEWCollabToolsHaveWorkedWith', edgecolor = 'black', ax=axes[0], dodge = False)\n",
    "axes[0].set_title(\"Collaboration Tools Used\")\n",
    "axes[0].set_ylabel(\"Collaboration Tools\")\n",
    "axes[0].set_xlabel(\"Count\")\n",
    "axes[0].get_legend().remove()\n",
    "\n",
    "# Bar graph #2 - Top 10 Collaboration Tools  Wanted\n",
    "sns.barplot(top10_collab_want, x='count', y='NEWCollabToolsWantToWorkWith', hue='NEWCollabToolsWantToWorkWith', edgecolor = 'black', ax=axes[1], dodge = False)\n",
    "axes[1].set_title(\"Collaboration Tools Wanted\")\n",
    "axes[1].set_ylabel(\"Collaboration Tools\")\n",
    "axes[1].set_xlabel(\"Count\")\n",
    "axes[1].get_legend().remove()\n",
    "\n",
    "plt.tight_layout()\n",
    "plt.show()"
   ]
  },
  {
   "cell_type": "markdown",
   "id": "c2395a88",
   "metadata": {
    "papermill": {
     "duration": 0.020335,
     "end_time": "2025-09-02T05:00:19.023719",
     "exception": false,
     "start_time": "2025-09-02T05:00:19.003384",
     "status": "completed"
    },
    "tags": []
   },
   "source": [
    "For collaboration tools, 9 tools out of 10 are present in both plots. `Sublime Text` only appears on the 'worked with' plot and `Xcode` only appears on the 'wanted' plot. "
   ]
  },
  {
   "cell_type": "markdown",
   "id": "eb0517b0",
   "metadata": {
    "papermill": {
     "duration": 0.020418,
     "end_time": "2025-09-02T05:00:19.064238",
     "exception": false,
     "start_time": "2025-09-02T05:00:19.043820",
     "status": "completed"
    },
    "tags": []
   },
   "source": [
    "## Close Connection"
   ]
  },
  {
   "cell_type": "code",
   "execution_count": 31,
   "id": "49b09100",
   "metadata": {
    "execution": {
     "iopub.execute_input": "2025-09-02T05:00:19.104623Z",
     "iopub.status.busy": "2025-09-02T05:00:19.104294Z",
     "iopub.status.idle": "2025-09-02T05:00:19.110501Z",
     "shell.execute_reply": "2025-09-02T05:00:19.109524Z"
    },
    "papermill": {
     "duration": 0.028429,
     "end_time": "2025-09-02T05:00:19.112177",
     "exception": false,
     "start_time": "2025-09-02T05:00:19.083748",
     "status": "completed"
    },
    "tags": []
   },
   "outputs": [],
   "source": [
    "# Remember to close the connection with the database at the end\n",
    "conn.close()"
   ]
  }
 ],
 "metadata": {
  "kaggle": {
   "accelerator": "none",
   "dataSources": [
    {
     "sourceId": 259496945,
     "sourceType": "kernelVersion"
    }
   ],
   "dockerImageVersionId": 31089,
   "isGpuEnabled": false,
   "isInternetEnabled": true,
   "language": "python",
   "sourceType": "notebook"
  },
  "kernelspec": {
   "display_name": "Python 3",
   "language": "python",
   "name": "python3"
  },
  "language_info": {
   "codemirror_mode": {
    "name": "ipython",
    "version": 3
   },
   "file_extension": ".py",
   "mimetype": "text/x-python",
   "name": "python",
   "nbconvert_exporter": "python",
   "pygments_lexer": "ipython3",
   "version": "3.11.13"
  },
  "papermill": {
   "default_parameters": {},
   "duration": 28.595537,
   "end_time": "2025-09-02T05:00:20.055756",
   "environment_variables": {},
   "exception": null,
   "input_path": "__notebook__.ipynb",
   "output_path": "__notebook__.ipynb",
   "parameters": {},
   "start_time": "2025-09-02T04:59:51.460219",
   "version": "2.6.0"
  }
 },
 "nbformat": 4,
 "nbformat_minor": 5
}
